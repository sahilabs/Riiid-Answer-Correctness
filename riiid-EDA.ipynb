{
 "cells": [
  {
   "cell_type": "markdown",
   "metadata": {
    "papermill": {
     "duration": 0.089821,
     "end_time": "2020-12-17T10:29:06.053446",
     "exception": false,
     "start_time": "2020-12-17T10:29:05.963625",
     "status": "completed"
    },
    "tags": []
   },
   "source": [
    "# About the Riiid AIEd Challenge 2020\n",
    "\n",
    "Riiid Labs, an AI solutions provider delivering creative disruption to the education market, empowers global education players to rethink traditional ways of learning leveraging AI. With a strong belief in equal opportunity in education, Riiid launched an AI tutor based on deep-learning algorithms in 2017 that attracted more than one million South Korean students. This year, the company released EdNet, the world’s largest open database for AI education containing more than 100 million student interactions.\n",
    "\n",
    "In this competition, your challenge is to create algorithms for \"Knowledge Tracing,\" the modeling of student knowledge over time. The goal is to accurately predict how students will perform on future interactions. You will pair your machine learning skills using Riiid’s EdNet data. \n",
    "\n",
    "Submissions are evaluated on area under the ROC curve between the predicted probability and the observed target."
   ]
  },
  {
   "cell_type": "markdown",
   "metadata": {
    "papermill": {
     "duration": 0.086666,
     "end_time": "2020-12-17T10:29:06.228419",
     "exception": false,
     "start_time": "2020-12-17T10:29:06.141753",
     "status": "completed"
    },
    "tags": []
   },
   "source": [
    "# Table of Contents\n",
    "\n",
    "[**1. EDA**](#1.-EDA)\n",
    "\n",
    "[1.1 Exploring Train](#1.1-Exploring-Train)\n",
    "\n",
    "[1.2 Exploring Questions](#1.2-Exploring-Questions)\n",
    "\n",
    "[1.3 Exploring Lectures](#1.3-Exploring-Lectures)\n",
    "  \n",
    "[**2. Baseline model**](#2.-Baseline-model)"
   ]
  },
  {
   "cell_type": "markdown",
   "metadata": {
    "papermill": {
     "duration": 0.090485,
     "end_time": "2020-12-17T10:29:06.407064",
     "exception": false,
     "start_time": "2020-12-17T10:29:06.316579",
     "status": "completed"
    },
    "tags": []
   },
   "source": [
    "# 1. EDA\n",
    "\n",
    "Altogether, we are given 7 files.\n",
    "\n",
    ">Tailoring education to a student's ability level is one of the many valuable things an AI tutor can do. Your challenge in this competition is a version of that overall task; you will predict whether students are able to answer their next questions correctly. You'll be provided with the same sorts of information a complete education app would have: that student's historic performance, the performance of other students on the same question, metadata about the question itself, and more.\n",
    "\n",
    ">This is a time-series code competition, you will receive test set data and make predictions with Kaggle's time-series API. Please be sure to review the Time-series API Details section closely.\n",
    "\n",
    "So we should realize that example_test.csv really is just an example. The submission happens via the API."
   ]
  },
  {
   "cell_type": "code",
   "execution_count": 1,
   "metadata": {
    "_cell_guid": "79c7e3d0-c299-4dcb-8224-4455121ee9b0",
    "_kg_hide-input": true,
    "_uuid": "d629ff2d2480ee46fbb7e2d37f6b5fab8052498a",
    "execution": {
     "iopub.execute_input": "2020-12-17T10:29:06.596399Z",
     "iopub.status.busy": "2020-12-17T10:29:06.595472Z",
     "iopub.status.idle": "2020-12-17T10:29:07.711115Z",
     "shell.execute_reply": "2020-12-17T10:29:07.709664Z"
    },
    "papermill": {
     "duration": 1.216997,
     "end_time": "2020-12-17T10:29:07.711340",
     "exception": false,
     "start_time": "2020-12-17T10:29:06.494343",
     "status": "completed"
    },
    "tags": []
   },
   "outputs": [
    {
     "name": "stdout",
     "output_type": "stream",
     "text": [
      "/kaggle/input/riiid-test-answer-prediction/example_sample_submission.csv\n",
      "/kaggle/input/riiid-test-answer-prediction/example_test.csv\n",
      "/kaggle/input/riiid-test-answer-prediction/questions.csv\n",
      "/kaggle/input/riiid-test-answer-prediction/train.csv\n",
      "/kaggle/input/riiid-test-answer-prediction/lectures.csv\n",
      "/kaggle/input/riiid-test-answer-prediction/riiideducation/competition.cpython-37m-x86_64-linux-gnu.so\n",
      "/kaggle/input/riiid-test-answer-prediction/riiideducation/__init__.py\n"
     ]
    }
   ],
   "source": [
    "import numpy as np\n",
    "import pandas as pd\n",
    "import matplotlib.pyplot as plt\n",
    "%matplotlib inline\n",
    "import matplotlib.style as style\n",
    "style.use('fivethirtyeight')\n",
    "import seaborn as sns\n",
    "import os\n",
    "from matplotlib.ticker import FuncFormatter\n",
    "\n",
    "import os\n",
    "for dirname, _, filenames in os.walk('/kaggle/input/riiid-test-answer-prediction'):\n",
    "    for filename in filenames:\n",
    "        print(os.path.join(dirname, filename))"
   ]
  },
  {
   "cell_type": "code",
   "execution_count": 2,
   "metadata": {
    "_kg_hide-input": true,
    "execution": {
     "iopub.execute_input": "2020-12-17T10:29:08.073304Z",
     "iopub.status.busy": "2020-12-17T10:29:08.072337Z",
     "iopub.status.idle": "2020-12-17T10:29:51.838627Z",
     "shell.execute_reply": "2020-12-17T10:29:51.839288Z"
    },
    "papermill": {
     "duration": 43.861258,
     "end_time": "2020-12-17T10:29:51.839472",
     "exception": false,
     "start_time": "2020-12-17T10:29:07.978214",
     "status": "completed"
    },
    "tags": []
   },
   "outputs": [
    {
     "name": "stdout",
     "output_type": "stream",
     "text": [
      "Train size: (101230332, 10)\n",
      "CPU times: user 5.83 s, sys: 8.01 s, total: 13.8 s\n",
      "Wall time: 43.7 s\n"
     ]
    }
   ],
   "source": [
    "%%time\n",
    "\n",
    "train = pd.read_pickle(\"../input/riiid-train-data-multiple-formats/riiid_train.pkl.gzip\")\n",
    "\n",
    "print(\"Train size:\", train.shape)"
   ]
  },
  {
   "cell_type": "markdown",
   "metadata": {
    "papermill": {
     "duration": 0.088735,
     "end_time": "2020-12-17T10:29:52.016661",
     "exception": false,
     "start_time": "2020-12-17T10:29:51.927926",
     "status": "completed"
    },
    "tags": []
   },
   "source": [
    "Let's start by checking how much memory this dataframe is using."
   ]
  },
  {
   "cell_type": "code",
   "execution_count": 3,
   "metadata": {
    "execution": {
     "iopub.execute_input": "2020-12-17T10:30:13.851976Z",
     "iopub.status.busy": "2020-12-17T10:30:13.843293Z",
     "iopub.status.idle": "2020-12-17T10:30:13.857947Z",
     "shell.execute_reply": "2020-12-17T10:30:13.857160Z"
    },
    "papermill": {
     "duration": 21.753782,
     "end_time": "2020-12-17T10:30:13.858099",
     "exception": false,
     "start_time": "2020-12-17T10:29:52.104317",
     "status": "completed"
    },
    "tags": []
   },
   "outputs": [
    {
     "data": {
      "text/plain": [
       "Index                                    128\n",
       "row_id                             809842656\n",
       "timestamp                          809842656\n",
       "user_id                            404921328\n",
       "content_id                         202460664\n",
       "content_type_id                    101230332\n",
       "task_container_id                  202460664\n",
       "user_answer                        101230332\n",
       "answered_correctly                 101230332\n",
       "prior_question_elapsed_time        404921328\n",
       "prior_question_had_explanation    3594972816\n",
       "dtype: int64"
      ]
     },
     "execution_count": 3,
     "metadata": {},
     "output_type": "execute_result"
    }
   ],
   "source": [
    "train.memory_usage(deep=True)"
   ]
  },
  {
   "cell_type": "code",
   "execution_count": 4,
   "metadata": {
    "execution": {
     "iopub.execute_input": "2020-12-17T10:30:14.058805Z",
     "iopub.status.busy": "2020-12-17T10:30:14.057870Z",
     "iopub.status.idle": "2020-12-17T10:30:14.066348Z",
     "shell.execute_reply": "2020-12-17T10:30:14.062645Z"
    },
    "papermill": {
     "duration": 0.118711,
     "end_time": "2020-12-17T10:30:14.066532",
     "exception": false,
     "start_time": "2020-12-17T10:30:13.947821",
     "status": "completed"
    },
    "tags": []
   },
   "outputs": [
    {
     "name": "stdout",
     "output_type": "stream",
     "text": [
      "<class 'pandas.core.frame.DataFrame'>\n",
      "RangeIndex: 101230332 entries, 0 to 101230331\n",
      "Data columns (total 10 columns):\n",
      " #   Column                          Dtype  \n",
      "---  ------                          -----  \n",
      " 0   row_id                          int64  \n",
      " 1   timestamp                       int64  \n",
      " 2   user_id                         int32  \n",
      " 3   content_id                      int16  \n",
      " 4   content_type_id                 bool   \n",
      " 5   task_container_id               int16  \n",
      " 6   user_answer                     int8   \n",
      " 7   answered_correctly              int8   \n",
      " 8   prior_question_elapsed_time     float32\n",
      " 9   prior_question_had_explanation  object \n",
      "dtypes: bool(1), float32(1), int16(2), int32(1), int64(2), int8(2), object(1)\n",
      "memory usage: 3.7+ GB\n"
     ]
    }
   ],
   "source": [
    "train.info()"
   ]
  },
  {
   "cell_type": "markdown",
   "metadata": {
    "papermill": {
     "duration": 0.093487,
     "end_time": "2020-12-17T10:30:14.255104",
     "exception": false,
     "start_time": "2020-12-17T10:30:14.161617",
     "status": "completed"
    },
    "tags": []
   },
   "source": [
    "Hmm.....we can see that 'prior_question_had_explanation' is object and taking a lot of memory, while it is supposed to be boolean. Let's fix this before continuing."
   ]
  },
  {
   "cell_type": "code",
   "execution_count": 5,
   "metadata": {
    "execution": {
     "iopub.execute_input": "2020-12-17T10:30:25.696736Z",
     "iopub.status.busy": "2020-12-17T10:30:25.695819Z",
     "iopub.status.idle": "2020-12-17T10:30:47.237289Z",
     "shell.execute_reply": "2020-12-17T10:30:47.237903Z"
    },
    "papermill": {
     "duration": 32.89353,
     "end_time": "2020-12-17T10:30:47.238073",
     "exception": false,
     "start_time": "2020-12-17T10:30:14.344543",
     "status": "completed"
    },
    "tags": []
   },
   "outputs": [
    {
     "data": {
      "text/plain": [
       "Index                                   128\n",
       "row_id                            809842656\n",
       "timestamp                         809842656\n",
       "user_id                           404921328\n",
       "content_id                        202460664\n",
       "content_type_id                   101230332\n",
       "task_container_id                 202460664\n",
       "user_answer                       101230332\n",
       "answered_correctly                101230332\n",
       "prior_question_elapsed_time       404921328\n",
       "prior_question_had_explanation    202460664\n",
       "dtype: int64"
      ]
     },
     "execution_count": 5,
     "metadata": {},
     "output_type": "execute_result"
    }
   ],
   "source": [
    "train['prior_question_had_explanation'] = train['prior_question_had_explanation'].astype('boolean')\n",
    "\n",
    "train.memory_usage(deep=True)"
   ]
  },
  {
   "cell_type": "markdown",
   "metadata": {
    "papermill": {
     "duration": 0.091367,
     "end_time": "2020-12-17T10:30:47.418911",
     "exception": false,
     "start_time": "2020-12-17T10:30:47.327544",
     "status": "completed"
    },
    "tags": []
   },
   "source": [
    "The other files don't take very long to load, and I am importing the CSVs directly."
   ]
  },
  {
   "cell_type": "code",
   "execution_count": 6,
   "metadata": {
    "_kg_hide-input": true,
    "execution": {
     "iopub.execute_input": "2020-12-17T10:30:47.639085Z",
     "iopub.status.busy": "2020-12-17T10:30:47.638285Z",
     "iopub.status.idle": "2020-12-17T10:30:47.713088Z",
     "shell.execute_reply": "2020-12-17T10:30:47.712311Z"
    },
    "papermill": {
     "duration": 0.182487,
     "end_time": "2020-12-17T10:30:47.713276",
     "exception": false,
     "start_time": "2020-12-17T10:30:47.530789",
     "status": "completed"
    },
    "tags": []
   },
   "outputs": [
    {
     "name": "stdout",
     "output_type": "stream",
     "text": [
      "CPU times: user 18 ms, sys: 7.03 ms, total: 25 ms\n",
      "Wall time: 76 ms\n"
     ]
    }
   ],
   "source": [
    "%%time\n",
    "\n",
    "questions = pd.read_csv('/kaggle/input/riiid-test-answer-prediction/questions.csv')\n",
    "lectures = pd.read_csv('/kaggle/input/riiid-test-answer-prediction/lectures.csv')\n",
    "example_test = pd.read_csv('/kaggle/input/riiid-test-answer-prediction/example_test.csv')\n",
    "example_sample_submission = pd.read_csv('/kaggle/input/riiid-test-answer-prediction/example_sample_submission.csv')"
   ]
  },
  {
   "cell_type": "markdown",
   "metadata": {
    "papermill": {
     "duration": 0.089804,
     "end_time": "2020-12-17T10:30:47.894120",
     "exception": false,
     "start_time": "2020-12-17T10:30:47.804316",
     "status": "completed"
    },
    "tags": []
   },
   "source": [
    "# 1.1 Exploring Train\n",
    "\n",
    "The columns in the train file are described as:\n",
    "* row_id: (int64) ID code for the row.\n",
    "* timestamp: (int64) the time in milliseconds between this user interaction and the first event completion from that user.\n",
    "* user_id: (int32) ID code for the user.\n",
    "* content_id: (int16) ID code for the user interaction\n",
    "* content_type_id: (int8) 0 if the event was a question being posed to the user, 1 if the event was the user watching a lecture.\n",
    "* task_container_id: (int16) Id code for the batch of questions or lectures. For example, a user might see three questions in a row before seeing the explanations for any of them. Those three would all share a task_container_id.\n",
    "* user_answer: (int8) the user's answer to the question, if any. Read -1 as null, for lectures.\n",
    "* answered_correctly: (int8) if the user responded correctly. Read -1 as null, for lectures.\n",
    "* prior_question_elapsed_time: (float32) The average time in milliseconds it took a user to answer each question in the previous question bundle, ignoring any lectures in between. Is null for a user's first question bundle or lecture. Note that the time is the average time a user took to solve each question in the previous bundle.\n",
    "* prior_question_had_explanation: (bool) Whether or not the user saw an explanation and the correct response(s) after answering the previous question bundle, ignoring any lectures in between. The value is shared across a single question bundle, and is null for a user's first question bundle or lecture. Typically the first several questions a user sees were part of an onboarding diagnostic test where they did not get any feedback\n",
    "\n",
    "The train dataset is ordered by ascending user_id and ascending timestamp."
   ]
  },
  {
   "cell_type": "code",
   "execution_count": 7,
   "metadata": {
    "execution": {
     "iopub.execute_input": "2020-12-17T10:30:48.088359Z",
     "iopub.status.busy": "2020-12-17T10:30:48.087545Z",
     "iopub.status.idle": "2020-12-17T10:30:48.101114Z",
     "shell.execute_reply": "2020-12-17T10:30:48.101703Z"
    },
    "papermill": {
     "duration": 0.116562,
     "end_time": "2020-12-17T10:30:48.101878",
     "exception": false,
     "start_time": "2020-12-17T10:30:47.985316",
     "status": "completed"
    },
    "tags": []
   },
   "outputs": [
    {
     "data": {
      "text/html": [
       "<div>\n",
       "<style scoped>\n",
       "    .dataframe tbody tr th:only-of-type {\n",
       "        vertical-align: middle;\n",
       "    }\n",
       "\n",
       "    .dataframe tbody tr th {\n",
       "        vertical-align: top;\n",
       "    }\n",
       "\n",
       "    .dataframe thead th {\n",
       "        text-align: right;\n",
       "    }\n",
       "</style>\n",
       "<table border=\"1\" class=\"dataframe\">\n",
       "  <thead>\n",
       "    <tr style=\"text-align: right;\">\n",
       "      <th></th>\n",
       "      <th>row_id</th>\n",
       "      <th>timestamp</th>\n",
       "      <th>user_id</th>\n",
       "      <th>content_id</th>\n",
       "      <th>content_type_id</th>\n",
       "      <th>task_container_id</th>\n",
       "      <th>user_answer</th>\n",
       "      <th>answered_correctly</th>\n",
       "      <th>prior_question_elapsed_time</th>\n",
       "      <th>prior_question_had_explanation</th>\n",
       "    </tr>\n",
       "  </thead>\n",
       "  <tbody>\n",
       "    <tr>\n",
       "      <th>0</th>\n",
       "      <td>0</td>\n",
       "      <td>0</td>\n",
       "      <td>115</td>\n",
       "      <td>5692</td>\n",
       "      <td>False</td>\n",
       "      <td>1</td>\n",
       "      <td>3</td>\n",
       "      <td>1</td>\n",
       "      <td>NaN</td>\n",
       "      <td>&lt;NA&gt;</td>\n",
       "    </tr>\n",
       "    <tr>\n",
       "      <th>1</th>\n",
       "      <td>1</td>\n",
       "      <td>56943</td>\n",
       "      <td>115</td>\n",
       "      <td>5716</td>\n",
       "      <td>False</td>\n",
       "      <td>2</td>\n",
       "      <td>2</td>\n",
       "      <td>1</td>\n",
       "      <td>37000.0</td>\n",
       "      <td>False</td>\n",
       "    </tr>\n",
       "    <tr>\n",
       "      <th>2</th>\n",
       "      <td>2</td>\n",
       "      <td>118363</td>\n",
       "      <td>115</td>\n",
       "      <td>128</td>\n",
       "      <td>False</td>\n",
       "      <td>0</td>\n",
       "      <td>0</td>\n",
       "      <td>1</td>\n",
       "      <td>55000.0</td>\n",
       "      <td>False</td>\n",
       "    </tr>\n",
       "    <tr>\n",
       "      <th>3</th>\n",
       "      <td>3</td>\n",
       "      <td>131167</td>\n",
       "      <td>115</td>\n",
       "      <td>7860</td>\n",
       "      <td>False</td>\n",
       "      <td>3</td>\n",
       "      <td>0</td>\n",
       "      <td>1</td>\n",
       "      <td>19000.0</td>\n",
       "      <td>False</td>\n",
       "    </tr>\n",
       "    <tr>\n",
       "      <th>4</th>\n",
       "      <td>4</td>\n",
       "      <td>137965</td>\n",
       "      <td>115</td>\n",
       "      <td>7922</td>\n",
       "      <td>False</td>\n",
       "      <td>4</td>\n",
       "      <td>1</td>\n",
       "      <td>1</td>\n",
       "      <td>11000.0</td>\n",
       "      <td>False</td>\n",
       "    </tr>\n",
       "    <tr>\n",
       "      <th>5</th>\n",
       "      <td>5</td>\n",
       "      <td>157063</td>\n",
       "      <td>115</td>\n",
       "      <td>156</td>\n",
       "      <td>False</td>\n",
       "      <td>5</td>\n",
       "      <td>2</td>\n",
       "      <td>1</td>\n",
       "      <td>5000.0</td>\n",
       "      <td>False</td>\n",
       "    </tr>\n",
       "    <tr>\n",
       "      <th>6</th>\n",
       "      <td>6</td>\n",
       "      <td>176092</td>\n",
       "      <td>115</td>\n",
       "      <td>51</td>\n",
       "      <td>False</td>\n",
       "      <td>6</td>\n",
       "      <td>0</td>\n",
       "      <td>1</td>\n",
       "      <td>17000.0</td>\n",
       "      <td>False</td>\n",
       "    </tr>\n",
       "    <tr>\n",
       "      <th>7</th>\n",
       "      <td>7</td>\n",
       "      <td>194190</td>\n",
       "      <td>115</td>\n",
       "      <td>50</td>\n",
       "      <td>False</td>\n",
       "      <td>7</td>\n",
       "      <td>3</td>\n",
       "      <td>1</td>\n",
       "      <td>17000.0</td>\n",
       "      <td>False</td>\n",
       "    </tr>\n",
       "    <tr>\n",
       "      <th>8</th>\n",
       "      <td>8</td>\n",
       "      <td>212463</td>\n",
       "      <td>115</td>\n",
       "      <td>7896</td>\n",
       "      <td>False</td>\n",
       "      <td>8</td>\n",
       "      <td>2</td>\n",
       "      <td>1</td>\n",
       "      <td>16000.0</td>\n",
       "      <td>False</td>\n",
       "    </tr>\n",
       "    <tr>\n",
       "      <th>9</th>\n",
       "      <td>9</td>\n",
       "      <td>230983</td>\n",
       "      <td>115</td>\n",
       "      <td>7863</td>\n",
       "      <td>False</td>\n",
       "      <td>9</td>\n",
       "      <td>0</td>\n",
       "      <td>1</td>\n",
       "      <td>16000.0</td>\n",
       "      <td>False</td>\n",
       "    </tr>\n",
       "  </tbody>\n",
       "</table>\n",
       "</div>"
      ],
      "text/plain": [
       "   row_id  timestamp  user_id  content_id  content_type_id  task_container_id  \\\n",
       "0       0          0      115        5692            False                  1   \n",
       "1       1      56943      115        5716            False                  2   \n",
       "2       2     118363      115         128            False                  0   \n",
       "3       3     131167      115        7860            False                  3   \n",
       "4       4     137965      115        7922            False                  4   \n",
       "5       5     157063      115         156            False                  5   \n",
       "6       6     176092      115          51            False                  6   \n",
       "7       7     194190      115          50            False                  7   \n",
       "8       8     212463      115        7896            False                  8   \n",
       "9       9     230983      115        7863            False                  9   \n",
       "\n",
       "   user_answer  answered_correctly  prior_question_elapsed_time  \\\n",
       "0            3                   1                          NaN   \n",
       "1            2                   1                      37000.0   \n",
       "2            0                   1                      55000.0   \n",
       "3            0                   1                      19000.0   \n",
       "4            1                   1                      11000.0   \n",
       "5            2                   1                       5000.0   \n",
       "6            0                   1                      17000.0   \n",
       "7            3                   1                      17000.0   \n",
       "8            2                   1                      16000.0   \n",
       "9            0                   1                      16000.0   \n",
       "\n",
       "   prior_question_had_explanation  \n",
       "0                            <NA>  \n",
       "1                           False  \n",
       "2                           False  \n",
       "3                           False  \n",
       "4                           False  \n",
       "5                           False  \n",
       "6                           False  \n",
       "7                           False  \n",
       "8                           False  \n",
       "9                           False  "
      ]
     },
     "execution_count": 7,
     "metadata": {},
     "output_type": "execute_result"
    }
   ],
   "source": [
    "train.head(10)"
   ]
  },
  {
   "cell_type": "code",
   "execution_count": 8,
   "metadata": {
    "_kg_hide-input": true,
    "execution": {
     "iopub.execute_input": "2020-12-17T10:30:48.291680Z",
     "iopub.status.busy": "2020-12-17T10:30:48.290887Z",
     "iopub.status.idle": "2020-12-17T10:30:49.101307Z",
     "shell.execute_reply": "2020-12-17T10:30:49.100660Z"
    },
    "papermill": {
     "duration": 0.905396,
     "end_time": "2020-12-17T10:30:49.101447",
     "exception": false,
     "start_time": "2020-12-17T10:30:48.196051",
     "status": "completed"
    },
    "tags": []
   },
   "outputs": [
    {
     "name": "stdout",
     "output_type": "stream",
     "text": [
      "We have 393656 unique users in our train set\n"
     ]
    }
   ],
   "source": [
    "print(f'We have {train.user_id.nunique()} unique users in our train set')"
   ]
  },
  {
   "cell_type": "markdown",
   "metadata": {
    "papermill": {
     "duration": 0.091622,
     "end_time": "2020-12-17T10:30:49.284777",
     "exception": false,
     "start_time": "2020-12-17T10:30:49.193155",
     "status": "completed"
    },
    "tags": []
   },
   "source": [
    "Content_type_id = False means that a question was asked. True means that the user was watching a lecture."
   ]
  },
  {
   "cell_type": "code",
   "execution_count": 9,
   "metadata": {
    "_kg_hide-input": true,
    "execution": {
     "iopub.execute_input": "2020-12-17T10:30:49.474800Z",
     "iopub.status.busy": "2020-12-17T10:30:49.473986Z",
     "iopub.status.idle": "2020-12-17T10:30:50.670033Z",
     "shell.execute_reply": "2020-12-17T10:30:50.669412Z"
    },
    "papermill": {
     "duration": 1.293424,
     "end_time": "2020-12-17T10:30:50.670202",
     "exception": false,
     "start_time": "2020-12-17T10:30:49.376778",
     "status": "completed"
    },
    "tags": []
   },
   "outputs": [
    {
     "data": {
      "text/plain": [
       "False    99271300\n",
       "True      1959032\n",
       "Name: content_type_id, dtype: int64"
      ]
     },
     "execution_count": 9,
     "metadata": {},
     "output_type": "execute_result"
    }
   ],
   "source": [
    "train.content_type_id.value_counts()"
   ]
  },
  {
   "cell_type": "markdown",
   "metadata": {
    "papermill": {
     "duration": 0.096326,
     "end_time": "2020-12-17T10:30:50.858084",
     "exception": false,
     "start_time": "2020-12-17T10:30:50.761758",
     "status": "completed"
    },
    "tags": []
   },
   "source": [
    "Content_id is a code for the user interaction. Basically, these are the questions if content_type is question (question_id: foreign key for the train/test content_id column, when the content type is question)."
   ]
  },
  {
   "cell_type": "code",
   "execution_count": 10,
   "metadata": {
    "_kg_hide-input": true,
    "execution": {
     "iopub.execute_input": "2020-12-17T10:30:51.049826Z",
     "iopub.status.busy": "2020-12-17T10:30:51.048324Z",
     "iopub.status.idle": "2020-12-17T10:31:00.340642Z",
     "shell.execute_reply": "2020-12-17T10:31:00.341226Z"
    },
    "papermill": {
     "duration": 9.391398,
     "end_time": "2020-12-17T10:31:00.341401",
     "exception": false,
     "start_time": "2020-12-17T10:30:50.950003",
     "status": "completed"
    },
    "tags": []
   },
   "outputs": [
    {
     "name": "stdout",
     "output_type": "stream",
     "text": [
      "We have 13782 content ids in our train set, of which 13523 are questions.\n"
     ]
    }
   ],
   "source": [
    "print(f'We have {train.content_id.nunique()} content ids in our train set, of which {train[train.content_type_id == False].content_id.nunique()} are questions.')"
   ]
  },
  {
   "cell_type": "code",
   "execution_count": 11,
   "metadata": {
    "_kg_hide-input": true,
    "execution": {
     "iopub.execute_input": "2020-12-17T10:31:00.533891Z",
     "iopub.status.busy": "2020-12-17T10:31:00.533033Z",
     "iopub.status.idle": "2020-12-17T10:31:04.671229Z",
     "shell.execute_reply": "2020-12-17T10:31:04.670490Z"
    },
    "papermill": {
     "duration": 4.237666,
     "end_time": "2020-12-17T10:31:04.671359",
     "exception": false,
     "start_time": "2020-12-17T10:31:00.433693",
     "status": "completed"
    },
    "tags": []
   },
   "outputs": [
    {
     "data": {
      "image/png": "[encoded data removed]",
      "text/plain": [
       "<Figure size 864x432 with 1 Axes>"
      ]
     },
     "metadata": {},
     "output_type": "display_data"
    }
   ],
   "source": [
    "cids = train.content_id.value_counts()[:30]\n",
    "\n",
    "fig = plt.figure(figsize=(12,6))\n",
    "ax = cids.plot.bar()\n",
    "plt.title(\"Thirty most used content id's\")\n",
    "plt.xticks(rotation=90)\n",
    "ax.get_yaxis().set_major_formatter(FuncFormatter(lambda x, p: format(int(x), ','))) #add thousands separator\n",
    "plt.show()"
   ]
  },
  {
   "cell_type": "markdown",
   "metadata": {
    "papermill": {
     "duration": 0.0931,
     "end_time": "2020-12-17T10:31:04.866708",
     "exception": false,
     "start_time": "2020-12-17T10:31:04.773608",
     "status": "completed"
    },
    "tags": []
   },
   "source": [
    "task_container_id: (int16) Id code for the batch of questions or lectures. For example, a user might see three questions in a row before seeing the explanations for any of them. Those three would all share a task_container_id."
   ]
  },
  {
   "cell_type": "code",
   "execution_count": 12,
   "metadata": {
    "_kg_hide-input": true,
    "execution": {
     "iopub.execute_input": "2020-12-17T10:31:05.059596Z",
     "iopub.status.busy": "2020-12-17T10:31:05.058777Z",
     "iopub.status.idle": "2020-12-17T10:31:05.942489Z",
     "shell.execute_reply": "2020-12-17T10:31:05.941453Z"
    },
    "papermill": {
     "duration": 0.982513,
     "end_time": "2020-12-17T10:31:05.942660",
     "exception": false,
     "start_time": "2020-12-17T10:31:04.960147",
     "status": "completed"
    },
    "tags": []
   },
   "outputs": [
    {
     "name": "stdout",
     "output_type": "stream",
     "text": [
      "We have 10000 unique Batches of questions or lectures.\n"
     ]
    }
   ],
   "source": [
    "print(f'We have {train.task_container_id.nunique()} unique Batches of questions or lectures.')"
   ]
  },
  {
   "cell_type": "markdown",
   "metadata": {
    "papermill": {
     "duration": 0.094534,
     "end_time": "2020-12-17T10:31:06.133279",
     "exception": false,
     "start_time": "2020-12-17T10:31:06.038745",
     "status": "completed"
    },
    "tags": []
   },
   "source": [
    "User answer. Seems that the questions are multiple choice (answers 0-3). As mentioned in the data description, -1 is actually no-answer (as the interaction was a lecture instead of a question)."
   ]
  },
  {
   "cell_type": "code",
   "execution_count": 13,
   "metadata": {
    "_kg_hide-input": true,
    "execution": {
     "iopub.execute_input": "2020-12-17T10:31:06.381366Z",
     "iopub.status.busy": "2020-12-17T10:31:06.380002Z",
     "iopub.status.idle": "2020-12-17T10:31:07.574632Z",
     "shell.execute_reply": "2020-12-17T10:31:07.573888Z"
    },
    "papermill": {
     "duration": 1.345036,
     "end_time": "2020-12-17T10:31:07.574757",
     "exception": false,
     "start_time": "2020-12-17T10:31:06.229721",
     "status": "completed"
    },
    "tags": []
   },
   "outputs": [
    {
     "data": {
      "text/plain": [
       " 0    28186489\n",
       " 1    26990007\n",
       " 3    26084784\n",
       " 2    18010020\n",
       "-1     1959032\n",
       "Name: user_answer, dtype: int64"
      ]
     },
     "execution_count": 13,
     "metadata": {},
     "output_type": "execute_result"
    }
   ],
   "source": [
    "train.user_answer.value_counts()"
   ]
  },
  {
   "cell_type": "markdown",
   "metadata": {
    "papermill": {
     "duration": 0.093931,
     "end_time": "2020-12-17T10:31:07.762376",
     "exception": false,
     "start_time": "2020-12-17T10:31:07.668445",
     "status": "completed"
    },
    "tags": []
   },
   "source": [
    "timestamp: (int64) the time in milliseconds between this user interaction and the first event completion from that user. As you can see, most interactions are from users that were not active very long on the platform yet."
   ]
  },
  {
   "cell_type": "code",
   "execution_count": 14,
   "metadata": {
    "_kg_hide-input": true,
    "execution": {
     "iopub.execute_input": "2020-12-17T10:31:07.969136Z",
     "iopub.status.busy": "2020-12-17T10:31:07.967815Z",
     "iopub.status.idle": "2020-12-17T10:31:22.693255Z",
     "shell.execute_reply": "2020-12-17T10:31:22.692486Z"
    },
    "papermill": {
     "duration": 14.837295,
     "end_time": "2020-12-17T10:31:22.693381",
     "exception": false,
     "start_time": "2020-12-17T10:31:07.856086",
     "status": "completed"
    },
    "tags": []
   },
   "outputs": [
    {
     "data": {
      "image/png": "[encoded data removed]",
      "text/plain": [
       "<Figure size 864x432 with 1 Axes>"
      ]
     },
     "metadata": {},
     "output_type": "display_data"
    }
   ],
   "source": [
    "#1 year = 31536000000 ms\n",
    "ts = train['timestamp']/(31536000000/12)\n",
    "fig = plt.figure(figsize=(12,6))\n",
    "ts.plot.hist(bins=100)\n",
    "plt.title(\"Histogram of timestamp\")\n",
    "plt.xticks(rotation=0)\n",
    "plt.xlabel(\"Months between this user interaction and the first event completion from that user\")\n",
    "plt.show()"
   ]
  },
  {
   "cell_type": "markdown",
   "metadata": {
    "papermill": {
     "duration": 0.097064,
     "end_time": "2020-12-17T10:31:22.888048",
     "exception": false,
     "start_time": "2020-12-17T10:31:22.790984",
     "status": "completed"
    },
    "tags": []
   },
   "source": [
    "Do we have the full history of all user_id's? Yes, if we filter train on timestamp==0, we get a time 0 for all users."
   ]
  },
  {
   "cell_type": "code",
   "execution_count": 15,
   "metadata": {
    "_kg_hide-input": true,
    "execution": {
     "iopub.execute_input": "2020-12-17T10:31:23.091829Z",
     "iopub.status.busy": "2020-12-17T10:31:23.090237Z",
     "iopub.status.idle": "2020-12-17T10:31:24.188935Z",
     "shell.execute_reply": "2020-12-17T10:31:24.188082Z"
    },
    "papermill": {
     "duration": 1.202988,
     "end_time": "2020-12-17T10:31:24.189072",
     "exception": false,
     "start_time": "2020-12-17T10:31:22.986084",
     "status": "completed"
    },
    "tags": []
   },
   "outputs": [
    {
     "name": "stdout",
     "output_type": "stream",
     "text": [
      "Of the 393656 users in train we have 393656 users with a timestamp zero row.\n"
     ]
    }
   ],
   "source": [
    "print(f'Of the {train.user_id.nunique()} users in train we have {train[train.timestamp == 0].user_id.nunique()} users with a timestamp zero row.')"
   ]
  },
  {
   "cell_type": "markdown",
   "metadata": {
    "papermill": {
     "duration": 0.099649,
     "end_time": "2020-12-17T10:31:24.388126",
     "exception": false,
     "start_time": "2020-12-17T10:31:24.288477",
     "status": "completed"
    },
    "tags": []
   },
   "source": [
    "# The target: answered_correctly\n",
    "Answered_correctly is our target, and we have to predict to probability for an answer to be correct. Without looking at the lecture interactions (-1), we see about 1/3 of the questions was answered incorrectly."
   ]
  },
  {
   "cell_type": "code",
   "execution_count": 16,
   "metadata": {
    "_kg_hide-input": true,
    "execution": {
     "iopub.execute_input": "2020-12-17T10:31:24.600173Z",
     "iopub.status.busy": "2020-12-17T10:31:24.598614Z",
     "iopub.status.idle": "2020-12-17T10:31:31.766360Z",
     "shell.execute_reply": "2020-12-17T10:31:31.765564Z"
    },
    "papermill": {
     "duration": 7.276373,
     "end_time": "2020-12-17T10:31:31.766491",
     "exception": false,
     "start_time": "2020-12-17T10:31:24.490118",
     "status": "completed"
    },
    "tags": []
   },
   "outputs": [
    {
     "data": {
      "image/png": "[encoded data removed]",
      "text/plain": [
       "<Figure size 864x288 with 1 Axes>"
      ]
     },
     "metadata": {},
     "output_type": "display_data"
    }
   ],
   "source": [
    "correct = train[train.answered_correctly != -1].answered_correctly.value_counts(ascending=True)\n",
    "\n",
    "fig = plt.figure(figsize=(12,4))\n",
    "correct.plot.barh()\n",
    "for i, v in zip(correct.index, correct.values):\n",
    "    plt.text(v, i, '{:,}'.format(v), color='white', fontweight='bold', fontsize=14, ha='right', va='center')\n",
    "plt.title(\"Questions answered correctly\")\n",
    "plt.xticks(rotation=0)\n",
    "plt.show()"
   ]
  },
  {
   "cell_type": "markdown",
   "metadata": {
    "papermill": {
     "duration": 0.097953,
     "end_time": "2020-12-17T10:31:31.964996",
     "exception": false,
     "start_time": "2020-12-17T10:31:31.867043",
     "status": "completed"
    },
    "tags": []
   },
   "source": [
    "I also want to find out if there is a relationship between timestamp and answered_correctly. To find out I have made 5 bins of timestamp. As you can see, the only noticable thing is that users who have registered relatively recently perform a little worse than users who are active longer."
   ]
  },
  {
   "cell_type": "code",
   "execution_count": 17,
   "metadata": {
    "_kg_hide-input": true,
    "execution": {
     "iopub.execute_input": "2020-12-17T10:31:32.183498Z",
     "iopub.status.busy": "2020-12-17T10:31:32.177894Z",
     "iopub.status.idle": "2020-12-17T10:31:56.211331Z",
     "shell.execute_reply": "2020-12-17T10:31:56.210368Z"
    },
    "papermill": {
     "duration": 24.146656,
     "end_time": "2020-12-17T10:31:56.211502",
     "exception": false,
     "start_time": "2020-12-17T10:31:32.064846",
     "status": "completed"
    },
    "tags": []
   },
   "outputs": [
    {
     "data": {
      "image/png": "[encoded data removed]",
      "text/plain": [
       "<Figure size 864x432 with 1 Axes>"
      ]
     },
     "metadata": {},
     "output_type": "display_data"
    }
   ],
   "source": [
    "bin_labels_5 = ['Bin_1', 'Bin_2', 'Bin_3', 'Bin_4', 'Bin_5']\n",
    "train['ts_bin'] = pd.qcut(train['timestamp'], q=5, labels=bin_labels_5)\n",
    "\n",
    "#make function that can also be used for other fields\n",
    "def correct(field):\n",
    "    correct = train[train.answered_correctly != -1].groupby([field, 'answered_correctly'], as_index=False).size()\n",
    "    correct = correct.pivot(index= field, columns='answered_correctly', values='size')\n",
    "    correct['Percent_correct'] = round(correct.iloc[:,1]/(correct.iloc[:,0] + correct.iloc[:,1]),2)\n",
    "    correct = correct.sort_values(by = \"Percent_correct\", ascending = False)\n",
    "    correct = correct.iloc[:,2]\n",
    "    return(correct)\n",
    "\n",
    "bins_correct = correct(\"ts_bin\")\n",
    "bins_correct = bins_correct.sort_index()\n",
    "\n",
    "fig = plt.figure(figsize=(12,6))\n",
    "plt.bar(bins_correct.index, bins_correct.values)\n",
    "for i, v in zip(bins_correct.index, bins_correct.values):\n",
    "    plt.text(i, v, v, color='white', fontweight='bold', fontsize=14, va='top', ha='center')\n",
    "plt.title(\"Percent answered_correctly for 5 bins of timestamp\")\n",
    "plt.xticks(rotation=0)\n",
    "plt.show()"
   ]
  },
  {
   "cell_type": "markdown",
   "metadata": {
    "papermill": {
     "duration": 0.09851,
     "end_time": "2020-12-17T10:31:56.410432",
     "exception": false,
     "start_time": "2020-12-17T10:31:56.311922",
     "status": "completed"
    },
    "tags": []
   },
   "source": [
    "Let's also check out what the distribution of answered_correctly looks like if we groupby the (10,000 unique) task_container_id's."
   ]
  },
  {
   "cell_type": "code",
   "execution_count": 18,
   "metadata": {
    "_kg_hide-input": true,
    "execution": {
     "iopub.execute_input": "2020-12-17T10:31:56.620137Z",
     "iopub.status.busy": "2020-12-17T10:31:56.619322Z",
     "iopub.status.idle": "2020-12-17T10:32:10.825690Z",
     "shell.execute_reply": "2020-12-17T10:32:10.824888Z"
    },
    "papermill": {
     "duration": 14.311923,
     "end_time": "2020-12-17T10:32:10.825823",
     "exception": false,
     "start_time": "2020-12-17T10:31:56.513900",
     "status": "completed"
    },
    "tags": []
   },
   "outputs": [
    {
     "data": {
      "image/png": "[encoded data removed]",
      "text/plain": [
       "<Figure size 864x432 with 1 Axes>"
      ]
     },
     "metadata": {},
     "output_type": "display_data"
    }
   ],
   "source": [
    "task_id_correct = correct(\"task_container_id\")\n",
    "\n",
    "fig = plt.figure(figsize=(12,6))\n",
    "task_id_correct.plot.hist(bins=40)\n",
    "plt.title(\"Histogram of percent_correct grouped by task_container_id\")\n",
    "plt.xticks(rotation=0)\n",
    "plt.show()"
   ]
  },
  {
   "cell_type": "markdown",
   "metadata": {
    "papermill": {
     "duration": 0.098502,
     "end_time": "2020-12-17T10:32:11.024236",
     "exception": false,
     "start_time": "2020-12-17T10:32:10.925734",
     "status": "completed"
    },
    "tags": []
   },
   "source": [
    "Below I am plotting the number of answers per user_id against the percentage of questions answered correctly (sample of 200). As some users have answered huge amounts of questions, I have taken out the outliers (user_ids with 1000+ questions answered). As you can see, the trend is upward but there is also a lot of variation among users that have answered few questions."
   ]
  },
  {
   "cell_type": "code",
   "execution_count": 19,
   "metadata": {
    "_kg_hide-input": true,
    "execution": {
     "iopub.execute_input": "2020-12-17T10:32:11.231484Z",
     "iopub.status.busy": "2020-12-17T10:32:11.230679Z",
     "iopub.status.idle": "2020-12-17T10:32:32.160107Z",
     "shell.execute_reply": "2020-12-17T10:32:32.160686Z"
    },
    "papermill": {
     "duration": 21.036473,
     "end_time": "2020-12-17T10:32:32.160872",
     "exception": false,
     "start_time": "2020-12-17T10:32:11.124399",
     "status": "completed"
    },
    "tags": []
   },
   "outputs": [
    {
     "name": "stdout",
     "output_type": "stream",
     "text": [
      "the highest number of questions answered by a user is 17609\n"
     ]
    }
   ],
   "source": [
    "user_percent = train[train.answered_correctly != -1].groupby('user_id')['answered_correctly'].agg(Mean='mean', Answers='count')\n",
    "print(f'the highest number of questions answered by a user is {user_percent.Answers.max()}')\n"
   ]
  },
  {
   "cell_type": "code",
   "execution_count": 20,
   "metadata": {
    "_kg_hide-input": true,
    "execution": {
     "iopub.execute_input": "2020-12-17T10:32:32.372989Z",
     "iopub.status.busy": "2020-12-17T10:32:32.372242Z",
     "iopub.status.idle": "2020-12-17T10:32:32.665119Z",
     "shell.execute_reply": "2020-12-17T10:32:32.665729Z"
    },
    "papermill": {
     "duration": 0.402816,
     "end_time": "2020-12-17T10:32:32.665882",
     "exception": false,
     "start_time": "2020-12-17T10:32:32.263066",
     "status": "completed"
    },
    "tags": []
   },
   "outputs": [
    {
     "data": {
      "image/png": "[encoded data removed]",
      "text/plain": [
       "<Figure size 864x432 with 1 Axes>"
      ]
     },
     "metadata": {},
     "output_type": "display_data"
    }
   ],
   "source": [
    "user_percent = user_percent.query('Answers <= 1000').sample(n=200, random_state=1)\n",
    "\n",
    "fig = plt.figure(figsize=(12,6))\n",
    "x = user_percent.Answers\n",
    "y = user_percent.Mean\n",
    "plt.scatter(x, y, marker='o')\n",
    "plt.title(\"Percent answered correctly versus number of questions answered User\")\n",
    "plt.xticks(rotation=0)\n",
    "plt.xlabel(\"Number of questions answered\")\n",
    "plt.ylabel(\"Percent answered correctly\")\n",
    "z = np.polyfit(x, y, 1)\n",
    "p = np.poly1d(z)\n",
    "plt.plot(x,p(x),\"r--\")\n",
    "\n",
    "plt.show()\n"
   ]
  },
  {
   "cell_type": "markdown",
   "metadata": {
    "papermill": {
     "duration": 0.101821,
     "end_time": "2020-12-17T10:32:32.869562",
     "exception": false,
     "start_time": "2020-12-17T10:32:32.767741",
     "status": "completed"
    },
    "tags": []
   },
   "source": [
    "Below, I am doing the same thing by content_id (is question_id for content_type is question). I am again taking a sample of 200, and have taken out the content_ids with more than 25,000 questions asked. As you can see there is a slight downward trend."
   ]
  },
  {
   "cell_type": "code",
   "execution_count": 21,
   "metadata": {
    "_kg_hide-input": true,
    "execution": {
     "iopub.execute_input": "2020-12-17T10:32:33.079609Z",
     "iopub.status.busy": "2020-12-17T10:32:33.078788Z",
     "iopub.status.idle": "2020-12-17T10:32:54.131026Z",
     "shell.execute_reply": "2020-12-17T10:32:54.130120Z"
    },
    "papermill": {
     "duration": 21.160224,
     "end_time": "2020-12-17T10:32:54.131201",
     "exception": false,
     "start_time": "2020-12-17T10:32:32.970977",
     "status": "completed"
    },
    "tags": []
   },
   "outputs": [
    {
     "name": "stdout",
     "output_type": "stream",
     "text": [
      "The highest number of questions asked by content_id is 213605.\n",
      "Of 13523 content_ids, 529 content_ids had more than 25,000 questions asked.\n"
     ]
    }
   ],
   "source": [
    "content_percent = train[train.answered_correctly != -1].groupby('content_id')['answered_correctly'].agg(Mean='mean', Answers='count')\n",
    "print(f'The highest number of questions asked by content_id is {content_percent.Answers.max()}.')\n",
    "print(f'Of {len(content_percent)} content_ids, {len(content_percent[content_percent.Answers > 25000])} content_ids had more than 25,000 questions asked.')"
   ]
  },
  {
   "cell_type": "code",
   "execution_count": 22,
   "metadata": {
    "_kg_hide-input": true,
    "execution": {
     "iopub.execute_input": "2020-12-17T10:32:54.359685Z",
     "iopub.status.busy": "2020-12-17T10:32:54.358849Z",
     "iopub.status.idle": "2020-12-17T10:32:54.576383Z",
     "shell.execute_reply": "2020-12-17T10:32:54.575604Z"
    },
    "papermill": {
     "duration": 0.339794,
     "end_time": "2020-12-17T10:32:54.576551",
     "exception": false,
     "start_time": "2020-12-17T10:32:54.236757",
     "status": "completed"
    },
    "tags": []
   },
   "outputs": [
    {
     "data": {
      "image/png": "[encoded data removed]",
      "text/plain": [
       "<Figure size 864x432 with 1 Axes>"
      ]
     },
     "metadata": {},
     "output_type": "display_data"
    }
   ],
   "source": [
    "content_percent = content_percent.query('Answers <= 25000').sample(n=200, random_state=1)\n",
    "\n",
    "fig = plt.figure(figsize=(12,6))\n",
    "x = content_percent.Answers\n",
    "y = content_percent.Mean\n",
    "plt.scatter(x, y, marker='o')\n",
    "plt.title(\"Percent answered correctly versus number of questions answered Content_id\")\n",
    "plt.xticks(rotation=0)\n",
    "plt.xlabel(\"Number of questions answered\")\n",
    "plt.ylabel(\"Percent answered correctly\")\n",
    "z = np.polyfit(x, y, 1)\n",
    "p = np.poly1d(z)\n",
    "plt.plot(x,p(x),\"r--\")\n",
    "\n",
    "plt.show()\n"
   ]
  },
  {
   "cell_type": "markdown",
   "metadata": {
    "papermill": {
     "duration": 0.105908,
     "end_time": "2020-12-17T10:32:54.793481",
     "exception": false,
     "start_time": "2020-12-17T10:32:54.687573",
     "status": "completed"
    },
    "tags": []
   },
   "source": [
    "Does it help if the 'prior_question_had_explanation'? Yes, as you can see the percent answered correctly is about 17% higher when there was an explanation. Although it is probably better to treat not having an explanation as a disadvantage as there was an explanation before the vast majority of questions.\n",
    "\n",
    "In addition, it is also interesting to see that the percent answered correctly for the missing values is closer to True than to False."
   ]
  },
  {
   "cell_type": "code",
   "execution_count": 23,
   "metadata": {
    "_kg_hide-input": true,
    "execution": {
     "iopub.execute_input": "2020-12-17T10:32:55.018149Z",
     "iopub.status.busy": "2020-12-17T10:32:55.017308Z",
     "iopub.status.idle": "2020-12-17T10:33:16.540423Z",
     "shell.execute_reply": "2020-12-17T10:33:16.539348Z"
    },
    "papermill": {
     "duration": 21.639762,
     "end_time": "2020-12-17T10:33:16.540585",
     "exception": false,
     "start_time": "2020-12-17T10:32:54.900823",
     "status": "completed"
    },
    "tags": []
   },
   "outputs": [
    {
     "name": "stdout",
     "output_type": "stream",
     "text": [
      "prior_question_had_explanation\n",
      "False     9193234\n",
      "True     89685560\n",
      "NaN        392506\n",
      "Name: (answered_correctly, count), dtype: int64\n"
     ]
    },
    {
     "data": {
      "image/png": "[encoded data removed]",
      "text/plain": [
       "<Figure size 864x288 with 1 Axes>"
      ]
     },
     "metadata": {},
     "output_type": "display_data"
    }
   ],
   "source": [
    "pq = train[train.answered_correctly != -1].groupby(['prior_question_had_explanation'], dropna=False).agg({'answered_correctly': ['mean', 'count']})\n",
    "#pq.index = pq.index.astype(str)\n",
    "print(pq.iloc[:,1])\n",
    "pq = pq.iloc[:,0]\n",
    "\n",
    "fig = plt.figure(figsize=(12,4))\n",
    "pq.plot.barh()\n",
    "# for i, v in zip(pq.index, pq.values):\n",
    "#     plt.text(v, i, round(v,2), color='white', fontweight='bold', fontsize=14, ha='right', va='center')\n",
    "plt.title(\"Answered_correctly versus Prior Question had explanation\")\n",
    "plt.xlabel(\"Percent answered correctly\")\n",
    "plt.ylabel(\"Prior question had explanation\")\n",
    "plt.xticks(rotation=0)\n",
    "plt.show()"
   ]
  },
  {
   "cell_type": "markdown",
   "metadata": {
    "papermill": {
     "duration": 0.110611,
     "end_time": "2020-12-17T10:33:16.761003",
     "exception": false,
     "start_time": "2020-12-17T10:33:16.650392",
     "status": "completed"
    },
    "tags": []
   },
   "source": [
    "prior_question_elapsed_time: (float32) The average time in milliseconds it took a user to answer each question in the previous question bundle, ignoring any lectures in between. Is null for a user's first question bundle or lecture. Note that the time is the average time a user took to solve each question in the previous bundle.\n",
    "\n",
    "At first glance, this does not seem very interesting regarding our target. For both wrong and correct answers, the mean is about 25 seconds."
   ]
  },
  {
   "cell_type": "code",
   "execution_count": 24,
   "metadata": {
    "_kg_hide-input": true,
    "execution": {
     "iopub.execute_input": "2020-12-17T10:33:16.983690Z",
     "iopub.status.busy": "2020-12-17T10:33:16.982833Z",
     "iopub.status.idle": "2020-12-17T10:33:37.358101Z",
     "shell.execute_reply": "2020-12-17T10:33:37.358670Z"
    },
    "papermill": {
     "duration": 20.490355,
     "end_time": "2020-12-17T10:33:37.358839",
     "exception": false,
     "start_time": "2020-12-17T10:33:16.868484",
     "status": "completed"
    },
    "tags": []
   },
   "outputs": [
    {
     "data": {
      "text/html": [
       "<div>\n",
       "<style scoped>\n",
       "    .dataframe tbody tr th:only-of-type {\n",
       "        vertical-align: middle;\n",
       "    }\n",
       "\n",
       "    .dataframe tbody tr th {\n",
       "        vertical-align: top;\n",
       "    }\n",
       "\n",
       "    .dataframe thead tr th {\n",
       "        text-align: left;\n",
       "    }\n",
       "\n",
       "    .dataframe thead tr:last-of-type th {\n",
       "        text-align: right;\n",
       "    }\n",
       "</style>\n",
       "<table border=\"1\" class=\"dataframe\">\n",
       "  <thead>\n",
       "    <tr>\n",
       "      <th></th>\n",
       "      <th>answered_correctly</th>\n",
       "      <th>prior_question_elapsed_time</th>\n",
       "    </tr>\n",
       "    <tr>\n",
       "      <th></th>\n",
       "      <th>count</th>\n",
       "      <th>mean</th>\n",
       "    </tr>\n",
       "    <tr>\n",
       "      <th>answered_correctly</th>\n",
       "      <th></th>\n",
       "      <th></th>\n",
       "    </tr>\n",
       "  </thead>\n",
       "  <tbody>\n",
       "    <tr>\n",
       "      <th>0</th>\n",
       "      <td>34026673</td>\n",
       "      <td>25641.992188</td>\n",
       "    </tr>\n",
       "    <tr>\n",
       "      <th>1</th>\n",
       "      <td>65244627</td>\n",
       "      <td>25309.976562</td>\n",
       "    </tr>\n",
       "  </tbody>\n",
       "</table>\n",
       "</div>"
      ],
      "text/plain": [
       "                   answered_correctly prior_question_elapsed_time\n",
       "                                count                        mean\n",
       "answered_correctly                                               \n",
       "0                            34026673                25641.992188\n",
       "1                            65244627                25309.976562"
      ]
     },
     "execution_count": 24,
     "metadata": {},
     "output_type": "execute_result"
    }
   ],
   "source": [
    "pq = train[train.answered_correctly != -1]\n",
    "pq = pq[['prior_question_elapsed_time', 'answered_correctly']]\n",
    "pq = pq.groupby(['answered_correctly']).agg({'answered_correctly': ['count'], 'prior_question_elapsed_time': ['mean']})\n",
    "\n",
    "pq"
   ]
  },
  {
   "cell_type": "markdown",
   "metadata": {
    "papermill": {
     "duration": 0.107774,
     "end_time": "2020-12-17T10:33:37.573423",
     "exception": false,
     "start_time": "2020-12-17T10:33:37.465649",
     "status": "completed"
    },
    "tags": []
   },
   "source": [
    "However, as the feature works with regards to the CV (see Baseline model), I also wanted to find out if there is a trend. Below, I have taken a sample of 200 rows. As you can see, there is s slightly downward trend."
   ]
  },
  {
   "cell_type": "code",
   "execution_count": 25,
   "metadata": {
    "_kg_hide-input": true,
    "execution": {
     "iopub.execute_input": "2020-12-17T10:33:37.800158Z",
     "iopub.status.busy": "2020-12-17T10:33:37.799349Z",
     "iopub.status.idle": "2020-12-17T10:33:50.311692Z",
     "shell.execute_reply": "2020-12-17T10:33:50.311083Z"
    },
    "papermill": {
     "duration": 12.632526,
     "end_time": "2020-12-17T10:33:50.311818",
     "exception": false,
     "start_time": "2020-12-17T10:33:37.679292",
     "status": "completed"
    },
    "tags": []
   },
   "outputs": [
    {
     "data": {
      "image/png": "[encoded data removed]",
      "text/plain": [
       "<Figure size 864x432 with 1 Axes>"
      ]
     },
     "metadata": {},
     "output_type": "display_data"
    }
   ],
   "source": [
    "#please be aware that there is an issues with train.prior_question_elapsed_time.mean()\n",
    "#see https://www.kaggle.com/c/riiid-test-answer-prediction/discussion/195032\n",
    "mean_pq = train.prior_question_elapsed_time.astype(\"float64\").mean()\n",
    "\n",
    "condition = ((train.answered_correctly != -1) & (train.prior_question_elapsed_time.notna()))\n",
    "pq = train[condition][['prior_question_elapsed_time', 'answered_correctly']].sample(n=200, random_state=1)\n",
    "pq = pq.set_index('prior_question_elapsed_time').iloc[:,0]\n",
    "\n",
    "fig = plt.figure(figsize=(12,6))\n",
    "x = pq.index\n",
    "y = pq.values\n",
    "plt.scatter(x, y, marker='o')\n",
    "plt.title(\"Answered_correctly versus prior_question_elapsed_time\")\n",
    "plt.xticks(rotation=0)\n",
    "plt.xlabel(\"Prior_question_elapsed_time\")\n",
    "plt.ylabel(\"Answered_correctly\")\n",
    "plt.vlines(mean_pq, ymin=-0.1, ymax=1.1)\n",
    "plt.text(x= 27000, y=0.4, s='mean')\n",
    "plt.text(x=80000, y=0.6, s='trend')\n",
    "z = np.polyfit(x, y, 1)\n",
    "p = np.poly1d(z)\n",
    "plt.plot(x,p(x),\"r--\")\n",
    "plt.show()"
   ]
  },
  {
   "cell_type": "markdown",
   "metadata": {
    "papermill": {
     "duration": 0.112209,
     "end_time": "2020-12-17T10:33:50.535430",
     "exception": false,
     "start_time": "2020-12-17T10:33:50.423221",
     "status": "completed"
    },
    "tags": []
   },
   "source": [
    "# 1.2 Exploring Questions\n",
    "\n",
    "Metadata for the questions posed to users.\n",
    "\n",
    "* question_id: foreign key for the train/test content_id column, when the content type is question (0).\n",
    "* bundle_id: code for which questions are served together.\n",
    "* correct_answer: the answer to the question. Can be compared with the train user_answer column to check if the user was right.\n",
    "* part: the relevant section of the TOEIC test.\n",
    "* tags: one or more detailed tag codes for the question. The meaning of the tags will not be provided, but these codes are sufficient for clustering the questions together.\n"
   ]
  },
  {
   "cell_type": "code",
   "execution_count": 26,
   "metadata": {
    "execution": {
     "iopub.execute_input": "2020-12-17T10:33:50.771118Z",
     "iopub.status.busy": "2020-12-17T10:33:50.770217Z",
     "iopub.status.idle": "2020-12-17T10:33:50.776027Z",
     "shell.execute_reply": "2020-12-17T10:33:50.775420Z"
    },
    "papermill": {
     "duration": 0.129187,
     "end_time": "2020-12-17T10:33:50.776173",
     "exception": false,
     "start_time": "2020-12-17T10:33:50.646986",
     "status": "completed"
    },
    "tags": []
   },
   "outputs": [
    {
     "data": {
      "text/html": [
       "<div>\n",
       "<style scoped>\n",
       "    .dataframe tbody tr th:only-of-type {\n",
       "        vertical-align: middle;\n",
       "    }\n",
       "\n",
       "    .dataframe tbody tr th {\n",
       "        vertical-align: top;\n",
       "    }\n",
       "\n",
       "    .dataframe thead th {\n",
       "        text-align: right;\n",
       "    }\n",
       "</style>\n",
       "<table border=\"1\" class=\"dataframe\">\n",
       "  <thead>\n",
       "    <tr style=\"text-align: right;\">\n",
       "      <th></th>\n",
       "      <th>question_id</th>\n",
       "      <th>bundle_id</th>\n",
       "      <th>correct_answer</th>\n",
       "      <th>part</th>\n",
       "      <th>tags</th>\n",
       "    </tr>\n",
       "  </thead>\n",
       "  <tbody>\n",
       "    <tr>\n",
       "      <th>0</th>\n",
       "      <td>0</td>\n",
       "      <td>0</td>\n",
       "      <td>0</td>\n",
       "      <td>1</td>\n",
       "      <td>51 131 162 38</td>\n",
       "    </tr>\n",
       "    <tr>\n",
       "      <th>1</th>\n",
       "      <td>1</td>\n",
       "      <td>1</td>\n",
       "      <td>1</td>\n",
       "      <td>1</td>\n",
       "      <td>131 36 81</td>\n",
       "    </tr>\n",
       "    <tr>\n",
       "      <th>2</th>\n",
       "      <td>2</td>\n",
       "      <td>2</td>\n",
       "      <td>0</td>\n",
       "      <td>1</td>\n",
       "      <td>131 101 162 92</td>\n",
       "    </tr>\n",
       "    <tr>\n",
       "      <th>3</th>\n",
       "      <td>3</td>\n",
       "      <td>3</td>\n",
       "      <td>0</td>\n",
       "      <td>1</td>\n",
       "      <td>131 149 162 29</td>\n",
       "    </tr>\n",
       "    <tr>\n",
       "      <th>4</th>\n",
       "      <td>4</td>\n",
       "      <td>4</td>\n",
       "      <td>3</td>\n",
       "      <td>1</td>\n",
       "      <td>131 5 162 38</td>\n",
       "    </tr>\n",
       "  </tbody>\n",
       "</table>\n",
       "</div>"
      ],
      "text/plain": [
       "   question_id  bundle_id  correct_answer  part            tags\n",
       "0            0          0               0     1   51 131 162 38\n",
       "1            1          1               1     1       131 36 81\n",
       "2            2          2               0     1  131 101 162 92\n",
       "3            3          3               0     1  131 149 162 29\n",
       "4            4          4               3     1    131 5 162 38"
      ]
     },
     "execution_count": 26,
     "metadata": {},
     "output_type": "execute_result"
    }
   ],
   "source": [
    "questions.head()"
   ]
  },
  {
   "cell_type": "code",
   "execution_count": 27,
   "metadata": {
    "execution": {
     "iopub.execute_input": "2020-12-17T10:33:51.027429Z",
     "iopub.status.busy": "2020-12-17T10:33:51.026460Z",
     "iopub.status.idle": "2020-12-17T10:33:51.031065Z",
     "shell.execute_reply": "2020-12-17T10:33:51.030277Z"
    },
    "papermill": {
     "duration": 0.131651,
     "end_time": "2020-12-17T10:33:51.031226",
     "exception": false,
     "start_time": "2020-12-17T10:33:50.899575",
     "status": "completed"
    },
    "tags": []
   },
   "outputs": [
    {
     "data": {
      "text/plain": [
       "(13523, 5)"
      ]
     },
     "execution_count": 27,
     "metadata": {},
     "output_type": "execute_result"
    }
   ],
   "source": [
    "questions.shape"
   ]
  },
  {
   "cell_type": "markdown",
   "metadata": {
    "papermill": {
     "duration": 0.113888,
     "end_time": "2020-12-17T10:33:51.260956",
     "exception": false,
     "start_time": "2020-12-17T10:33:51.147068",
     "status": "completed"
    },
    "tags": []
   },
   "source": [
    "The tags seem valuable to me. First, let's check if there are any question_id's without tags. As you can see, there is exactly one question_id without at least one tag. Not a big deal, but we need to keep in mind that we have to impute something here if we make features based on tags."
   ]
  },
  {
   "cell_type": "code",
   "execution_count": 28,
   "metadata": {
    "_kg_hide-input": true,
    "execution": {
     "iopub.execute_input": "2020-12-17T10:33:51.501342Z",
     "iopub.status.busy": "2020-12-17T10:33:51.500501Z",
     "iopub.status.idle": "2020-12-17T10:33:51.505325Z",
     "shell.execute_reply": "2020-12-17T10:33:51.504620Z"
    },
    "papermill": {
     "duration": 0.1313,
     "end_time": "2020-12-17T10:33:51.505452",
     "exception": false,
     "start_time": "2020-12-17T10:33:51.374152",
     "status": "completed"
    },
    "tags": []
   },
   "outputs": [
    {
     "data": {
      "text/html": [
       "<div>\n",
       "<style scoped>\n",
       "    .dataframe tbody tr th:only-of-type {\n",
       "        vertical-align: middle;\n",
       "    }\n",
       "\n",
       "    .dataframe tbody tr th {\n",
       "        vertical-align: top;\n",
       "    }\n",
       "\n",
       "    .dataframe thead th {\n",
       "        text-align: right;\n",
       "    }\n",
       "</style>\n",
       "<table border=\"1\" class=\"dataframe\">\n",
       "  <thead>\n",
       "    <tr style=\"text-align: right;\">\n",
       "      <th></th>\n",
       "      <th>question_id</th>\n",
       "      <th>bundle_id</th>\n",
       "      <th>correct_answer</th>\n",
       "      <th>part</th>\n",
       "      <th>tags</th>\n",
       "    </tr>\n",
       "  </thead>\n",
       "  <tbody>\n",
       "    <tr>\n",
       "      <th>10033</th>\n",
       "      <td>10033</td>\n",
       "      <td>10033</td>\n",
       "      <td>2</td>\n",
       "      <td>6</td>\n",
       "      <td>NaN</td>\n",
       "    </tr>\n",
       "  </tbody>\n",
       "</table>\n",
       "</div>"
      ],
      "text/plain": [
       "       question_id  bundle_id  correct_answer  part tags\n",
       "10033        10033      10033               2     6  NaN"
      ]
     },
     "execution_count": 28,
     "metadata": {},
     "output_type": "execute_result"
    }
   ],
   "source": [
    "questions[questions.tags.isna()]"
   ]
  },
  {
   "cell_type": "markdown",
   "metadata": {
    "papermill": {
     "duration": 0.109987,
     "end_time": "2020-12-17T10:33:51.725539",
     "exception": false,
     "start_time": "2020-12-17T10:33:51.615552",
     "status": "completed"
    },
    "tags": []
   },
   "source": [
    "Also.....when looking at train, we see that this question was just asked once ;-). "
   ]
  },
  {
   "cell_type": "code",
   "execution_count": 29,
   "metadata": {
    "_kg_hide-input": true,
    "execution": {
     "iopub.execute_input": "2020-12-17T10:33:51.951675Z",
     "iopub.status.busy": "2020-12-17T10:33:51.950081Z",
     "iopub.status.idle": "2020-12-17T10:33:53.187396Z",
     "shell.execute_reply": "2020-12-17T10:33:53.186568Z"
    },
    "papermill": {
     "duration": 1.351906,
     "end_time": "2020-12-17T10:33:53.187529",
     "exception": false,
     "start_time": "2020-12-17T10:33:51.835623",
     "status": "completed"
    },
    "tags": []
   },
   "outputs": [
    {
     "data": {
      "text/html": [
       "<div>\n",
       "<style scoped>\n",
       "    .dataframe tbody tr th:only-of-type {\n",
       "        vertical-align: middle;\n",
       "    }\n",
       "\n",
       "    .dataframe tbody tr th {\n",
       "        vertical-align: top;\n",
       "    }\n",
       "\n",
       "    .dataframe thead th {\n",
       "        text-align: right;\n",
       "    }\n",
       "</style>\n",
       "<table border=\"1\" class=\"dataframe\">\n",
       "  <thead>\n",
       "    <tr style=\"text-align: right;\">\n",
       "      <th></th>\n",
       "      <th>row_id</th>\n",
       "      <th>timestamp</th>\n",
       "      <th>user_id</th>\n",
       "      <th>content_id</th>\n",
       "      <th>content_type_id</th>\n",
       "      <th>task_container_id</th>\n",
       "      <th>user_answer</th>\n",
       "      <th>answered_correctly</th>\n",
       "      <th>prior_question_elapsed_time</th>\n",
       "      <th>prior_question_had_explanation</th>\n",
       "      <th>ts_bin</th>\n",
       "    </tr>\n",
       "  </thead>\n",
       "  <tbody>\n",
       "    <tr>\n",
       "      <th>62750278</th>\n",
       "      <td>62750278</td>\n",
       "      <td>1286282597</td>\n",
       "      <td>1333688829</td>\n",
       "      <td>10033</td>\n",
       "      <td>False</td>\n",
       "      <td>1127</td>\n",
       "      <td>2</td>\n",
       "      <td>1</td>\n",
       "      <td>35000.0</td>\n",
       "      <td>True</td>\n",
       "      <td>Bin_2</td>\n",
       "    </tr>\n",
       "  </tbody>\n",
       "</table>\n",
       "</div>"
      ],
      "text/plain": [
       "            row_id   timestamp     user_id  content_id  content_type_id  \\\n",
       "62750278  62750278  1286282597  1333688829       10033            False   \n",
       "\n",
       "          task_container_id  user_answer  answered_correctly  \\\n",
       "62750278               1127            2                   1   \n",
       "\n",
       "          prior_question_elapsed_time  prior_question_had_explanation ts_bin  \n",
       "62750278                      35000.0                            True  Bin_2  "
      ]
     },
     "execution_count": 29,
     "metadata": {},
     "output_type": "execute_result"
    }
   ],
   "source": [
    "train.query('content_id == \"10033\" and answered_correctly != -1')"
   ]
  },
  {
   "cell_type": "code",
   "execution_count": 30,
   "metadata": {
    "_kg_hide-input": true,
    "execution": {
     "iopub.execute_input": "2020-12-17T10:33:53.431372Z",
     "iopub.status.busy": "2020-12-17T10:33:53.430510Z",
     "iopub.status.idle": "2020-12-17T10:33:53.570607Z",
     "shell.execute_reply": "2020-12-17T10:33:53.571246Z"
    },
    "papermill": {
     "duration": 0.271075,
     "end_time": "2020-12-17T10:33:53.571425",
     "exception": false,
     "start_time": "2020-12-17T10:33:53.300350",
     "status": "completed"
    },
    "tags": []
   },
   "outputs": [
    {
     "name": "stdout",
     "output_type": "stream",
     "text": [
      "There are 188 different tags\n"
     ]
    }
   ],
   "source": [
    "questions['tags'] = questions['tags'].astype(str)\n",
    "\n",
    "tags = [x.split() for x in questions[questions.tags != \"nan\"].tags.values]\n",
    "tags = [item for elem in tags for item in elem]\n",
    "tags = set(tags)\n",
    "tags = list(tags)\n",
    "print(f'There are {len(tags)} different tags')"
   ]
  },
  {
   "cell_type": "markdown",
   "metadata": {
    "papermill": {
     "duration": 0.128673,
     "end_time": "2020-12-17T10:33:53.811116",
     "exception": false,
     "start_time": "2020-12-17T10:33:53.682443",
     "status": "completed"
    },
    "tags": []
   },
   "source": [
    "Let's find out how many answers were Right and Wrong per question_id (so per content_id in train)."
   ]
  },
  {
   "cell_type": "code",
   "execution_count": 31,
   "metadata": {
    "_kg_hide-input": true,
    "execution": {
     "iopub.execute_input": "2020-12-17T10:33:54.083529Z",
     "iopub.status.busy": "2020-12-17T10:33:54.082744Z",
     "iopub.status.idle": "2020-12-17T10:34:08.030742Z",
     "shell.execute_reply": "2020-12-17T10:34:08.030089Z"
    },
    "papermill": {
     "duration": 14.102004,
     "end_time": "2020-12-17T10:34:08.030879",
     "exception": false,
     "start_time": "2020-12-17T10:33:53.928875",
     "status": "completed"
    },
    "tags": []
   },
   "outputs": [
    {
     "data": {
      "text/html": [
       "<div>\n",
       "<style scoped>\n",
       "    .dataframe tbody tr th:only-of-type {\n",
       "        vertical-align: middle;\n",
       "    }\n",
       "\n",
       "    .dataframe tbody tr th {\n",
       "        vertical-align: top;\n",
       "    }\n",
       "\n",
       "    .dataframe thead th {\n",
       "        text-align: right;\n",
       "    }\n",
       "</style>\n",
       "<table border=\"1\" class=\"dataframe\">\n",
       "  <thead>\n",
       "    <tr style=\"text-align: right;\">\n",
       "      <th></th>\n",
       "      <th>question_id</th>\n",
       "      <th>bundle_id</th>\n",
       "      <th>correct_answer</th>\n",
       "      <th>part</th>\n",
       "      <th>tags</th>\n",
       "      <th>Wrong</th>\n",
       "      <th>Right</th>\n",
       "    </tr>\n",
       "  </thead>\n",
       "  <tbody>\n",
       "    <tr>\n",
       "      <th>0</th>\n",
       "      <td>0</td>\n",
       "      <td>0</td>\n",
       "      <td>0</td>\n",
       "      <td>1</td>\n",
       "      <td>[51, 131, 162, 38]</td>\n",
       "      <td>637</td>\n",
       "      <td>6266</td>\n",
       "    </tr>\n",
       "    <tr>\n",
       "      <th>1</th>\n",
       "      <td>1</td>\n",
       "      <td>1</td>\n",
       "      <td>1</td>\n",
       "      <td>1</td>\n",
       "      <td>[131, 36, 81]</td>\n",
       "      <td>809</td>\n",
       "      <td>6589</td>\n",
       "    </tr>\n",
       "    <tr>\n",
       "      <th>2</th>\n",
       "      <td>2</td>\n",
       "      <td>2</td>\n",
       "      <td>0</td>\n",
       "      <td>1</td>\n",
       "      <td>[131, 101, 162, 92]</td>\n",
       "      <td>20015</td>\n",
       "      <td>24890</td>\n",
       "    </tr>\n",
       "    <tr>\n",
       "      <th>3</th>\n",
       "      <td>3</td>\n",
       "      <td>3</td>\n",
       "      <td>0</td>\n",
       "      <td>1</td>\n",
       "      <td>[131, 149, 162, 29]</td>\n",
       "      <td>5067</td>\n",
       "      <td>17906</td>\n",
       "    </tr>\n",
       "    <tr>\n",
       "      <th>4</th>\n",
       "      <td>4</td>\n",
       "      <td>4</td>\n",
       "      <td>3</td>\n",
       "      <td>1</td>\n",
       "      <td>[131, 5, 162, 38]</td>\n",
       "      <td>12275</td>\n",
       "      <td>19461</td>\n",
       "    </tr>\n",
       "  </tbody>\n",
       "</table>\n",
       "</div>"
      ],
      "text/plain": [
       "   question_id  bundle_id  correct_answer  part                 tags  Wrong  \\\n",
       "0            0          0               0     1   [51, 131, 162, 38]    637   \n",
       "1            1          1               1     1        [131, 36, 81]    809   \n",
       "2            2          2               0     1  [131, 101, 162, 92]  20015   \n",
       "3            3          3               0     1  [131, 149, 162, 29]   5067   \n",
       "4            4          4               3     1    [131, 5, 162, 38]  12275   \n",
       "\n",
       "   Right  \n",
       "0   6266  \n",
       "1   6589  \n",
       "2  24890  \n",
       "3  17906  \n",
       "4  19461  "
      ]
     },
     "execution_count": 31,
     "metadata": {},
     "output_type": "execute_result"
    }
   ],
   "source": [
    "tags_list = [x.split() for x in questions.tags.values]\n",
    "questions['tags'] = tags_list\n",
    "questions.head()\n",
    "\n",
    "correct = train[train.answered_correctly != -1].groupby([\"content_id\", 'answered_correctly'], as_index=False).size()\n",
    "correct = correct.pivot(index= \"content_id\", columns='answered_correctly', values='size')\n",
    "correct.columns = ['Wrong', 'Right']\n",
    "correct = correct.fillna(0)\n",
    "correct[['Wrong', 'Right']] = correct[['Wrong', 'Right']].astype(int)\n",
    "questions = questions.merge(correct, left_on = \"question_id\", right_on = \"content_id\", how = \"left\")\n",
    "questions.head()"
   ]
  },
  {
   "cell_type": "markdown",
   "metadata": {
    "papermill": {
     "duration": 0.119041,
     "end_time": "2020-12-17T10:34:08.264524",
     "exception": false,
     "start_time": "2020-12-17T10:34:08.145483",
     "status": "completed"
    },
    "tags": []
   },
   "source": [
    "As you can see, I have also changed the tags column into lists of tags."
   ]
  },
  {
   "cell_type": "code",
   "execution_count": 32,
   "metadata": {
    "execution": {
     "iopub.execute_input": "2020-12-17T10:34:08.497950Z",
     "iopub.status.busy": "2020-12-17T10:34:08.496981Z",
     "iopub.status.idle": "2020-12-17T10:34:08.501503Z",
     "shell.execute_reply": "2020-12-17T10:34:08.500792Z"
    },
    "papermill": {
     "duration": 0.124392,
     "end_time": "2020-12-17T10:34:08.501634",
     "exception": false,
     "start_time": "2020-12-17T10:34:08.377242",
     "status": "completed"
    },
    "tags": []
   },
   "outputs": [
    {
     "data": {
      "text/plain": [
       "array([list(['51', '131', '162', '38']), list(['131', '36', '81']),\n",
       "       list(['131', '101', '162', '92']), ..., list(['73']),\n",
       "       list(['125']), list(['55'])], dtype=object)"
      ]
     },
     "execution_count": 32,
     "metadata": {},
     "output_type": "execute_result"
    }
   ],
   "source": [
    "questions.tags.values"
   ]
  },
  {
   "cell_type": "markdown",
   "metadata": {
    "papermill": {
     "duration": 0.113033,
     "end_time": "2020-12-17T10:34:08.726645",
     "exception": false,
     "start_time": "2020-12-17T10:34:08.613612",
     "status": "completed"
    },
    "tags": []
   },
   "source": [
    "Now, I can add up all Wrong and Right answers for all questions that are labeled with a particular tag and calculate the percent correct for each tag. Please note that there is \"double counting\" of questions; for instance if a question has 5 tags, its answers are aggregated in the totals of each of the 5 tags. "
   ]
  },
  {
   "cell_type": "code",
   "execution_count": 33,
   "metadata": {
    "execution": {
     "iopub.execute_input": "2020-12-17T10:34:08.973449Z",
     "iopub.status.busy": "2020-12-17T10:34:08.972661Z",
     "iopub.status.idle": "2020-12-17T10:34:11.506778Z",
     "shell.execute_reply": "2020-12-17T10:34:11.507388Z"
    },
    "papermill": {
     "duration": 2.66698,
     "end_time": "2020-12-17T10:34:11.507568",
     "exception": false,
     "start_time": "2020-12-17T10:34:08.840588",
     "status": "completed"
    },
    "tags": []
   },
   "outputs": [
    {
     "name": "stdout",
     "output_type": "stream",
     "text": [
      "CPU times: user 2.53 s, sys: 1.07 ms, total: 2.53 s\n",
      "Wall time: 2.53 s\n"
     ]
    },
    {
     "data": {
      "text/html": [
       "<div>\n",
       "<style scoped>\n",
       "    .dataframe tbody tr th:only-of-type {\n",
       "        vertical-align: middle;\n",
       "    }\n",
       "\n",
       "    .dataframe tbody tr th {\n",
       "        vertical-align: top;\n",
       "    }\n",
       "\n",
       "    .dataframe thead th {\n",
       "        text-align: right;\n",
       "    }\n",
       "</style>\n",
       "<table border=\"1\" class=\"dataframe\">\n",
       "  <thead>\n",
       "    <tr style=\"text-align: right;\">\n",
       "      <th></th>\n",
       "      <th>Wrong</th>\n",
       "      <th>Right</th>\n",
       "      <th>Total_questions</th>\n",
       "      <th>Question_ids_with_tag</th>\n",
       "      <th>Percent_correct</th>\n",
       "    </tr>\n",
       "    <tr>\n",
       "      <th>tag</th>\n",
       "      <th></th>\n",
       "      <th></th>\n",
       "      <th></th>\n",
       "      <th></th>\n",
       "      <th></th>\n",
       "    </tr>\n",
       "  </thead>\n",
       "  <tbody>\n",
       "    <tr>\n",
       "      <th>24</th>\n",
       "      <td>157631</td>\n",
       "      <td>98982</td>\n",
       "      <td>256613</td>\n",
       "      <td>17</td>\n",
       "      <td>0.385725</td>\n",
       "    </tr>\n",
       "    <tr>\n",
       "      <th>23</th>\n",
       "      <td>261611</td>\n",
       "      <td>204293</td>\n",
       "      <td>465904</td>\n",
       "      <td>11</td>\n",
       "      <td>0.438487</td>\n",
       "    </tr>\n",
       "    <tr>\n",
       "      <th>19</th>\n",
       "      <td>173602</td>\n",
       "      <td>136367</td>\n",
       "      <td>309969</td>\n",
       "      <td>57</td>\n",
       "      <td>0.439938</td>\n",
       "    </tr>\n",
       "    <tr>\n",
       "      <th>151</th>\n",
       "      <td>272267</td>\n",
       "      <td>264913</td>\n",
       "      <td>537180</td>\n",
       "      <td>16</td>\n",
       "      <td>0.493155</td>\n",
       "    </tr>\n",
       "    <tr>\n",
       "      <th>167</th>\n",
       "      <td>170386</td>\n",
       "      <td>170681</td>\n",
       "      <td>341067</td>\n",
       "      <td>11</td>\n",
       "      <td>0.500432</td>\n",
       "    </tr>\n",
       "  </tbody>\n",
       "</table>\n",
       "</div>"
      ],
      "text/plain": [
       "      Wrong   Right  Total_questions  Question_ids_with_tag  Percent_correct\n",
       "tag                                                                         \n",
       "24   157631   98982           256613                     17         0.385725\n",
       "23   261611  204293           465904                     11         0.438487\n",
       "19   173602  136367           309969                     57         0.439938\n",
       "151  272267  264913           537180                     16         0.493155\n",
       "167  170386  170681           341067                     11         0.500432"
      ]
     },
     "execution_count": 33,
     "metadata": {},
     "output_type": "execute_result"
    }
   ],
   "source": [
    "%%time\n",
    "\n",
    "tags_df = pd.DataFrame()\n",
    "for x in range(len(tags)):\n",
    "    df = questions[questions.tags.apply(lambda l: tags[x] in l)]\n",
    "    df1 = df.agg({'Wrong': ['sum'], 'Right': ['sum']})\n",
    "    df1['Total_questions'] = df1.Wrong + df1.Right\n",
    "    df1['Question_ids_with_tag'] = len(df)\n",
    "    df1['tag'] = tags[x]\n",
    "    df1 = df1.set_index('tag')\n",
    "    tags_df = tags_df.append(df1)\n",
    "\n",
    "tags_df[['Wrong', 'Right', 'Total_questions']] = tags_df[['Wrong', 'Right', 'Total_questions']].astype(int)\n",
    "tags_df['Percent_correct'] = tags_df.Right/tags_df.Total_questions\n",
    "tags_df = tags_df.sort_values(by = \"Percent_correct\")\n",
    "\n",
    "tags_df.head()"
   ]
  },
  {
   "cell_type": "markdown",
   "metadata": {
    "papermill": {
     "duration": 0.114352,
     "end_time": "2020-12-17T10:34:11.736218",
     "exception": false,
     "start_time": "2020-12-17T10:34:11.621866",
     "status": "completed"
    },
    "tags": []
   },
   "source": [
    "As you can see, the differences are significant!"
   ]
  },
  {
   "cell_type": "code",
   "execution_count": 34,
   "metadata": {
    "_kg_hide-input": true,
    "execution": {
     "iopub.execute_input": "2020-12-17T10:34:11.985659Z",
     "iopub.status.busy": "2020-12-17T10:34:11.984829Z",
     "iopub.status.idle": "2020-12-17T10:34:12.239169Z",
     "shell.execute_reply": "2020-12-17T10:34:12.238578Z"
    },
    "papermill": {
     "duration": 0.387372,
     "end_time": "2020-12-17T10:34:12.239317",
     "exception": false,
     "start_time": "2020-12-17T10:34:11.851945",
     "status": "completed"
    },
    "tags": []
   },
   "outputs": [
    {
     "data": {
      "image/png": "[encoded data removed]",
      "text/plain": [
       "<Figure size 864x432 with 1 Axes>"
      ]
     },
     "metadata": {},
     "output_type": "display_data"
    }
   ],
   "source": [
    "select_rows = list(range(0,10)) + list(range(178, len(tags_df)))\n",
    "tags_select = tags_df.iloc[select_rows,4]\n",
    "\n",
    "fig = plt.figure(figsize=(12,6))\n",
    "x = tags_select.index\n",
    "y = tags_select.values\n",
    "clrs = ['red' if y < 0.6 else 'green' for y in tags_select.values]\n",
    "tags_select.plot.bar(x, y, color=clrs)\n",
    "plt.title(\"Ten hardest and ten easiest tags\")\n",
    "plt.xlabel(\"Tag\")\n",
    "plt.ylabel(\"Percent answers correct of questions with the tag\")\n",
    "plt.xticks(rotation=90)\n",
    "plt.show()"
   ]
  },
  {
   "cell_type": "markdown",
   "metadata": {
    "papermill": {
     "duration": 0.114271,
     "end_time": "2020-12-17T10:34:12.468541",
     "exception": false,
     "start_time": "2020-12-17T10:34:12.354270",
     "status": "completed"
    },
    "tags": []
   },
   "source": [
    "However, we should also realize that the tag with the worst percent_correct only has about 250,000 answers. This a low number compared to the tags with most answers."
   ]
  },
  {
   "cell_type": "code",
   "execution_count": 35,
   "metadata": {
    "_kg_hide-input": true,
    "execution": {
     "iopub.execute_input": "2020-12-17T10:34:12.729861Z",
     "iopub.status.busy": "2020-12-17T10:34:12.726391Z",
     "iopub.status.idle": "2020-12-17T10:34:13.076661Z",
     "shell.execute_reply": "2020-12-17T10:34:13.075904Z"
    },
    "papermill": {
     "duration": 0.487445,
     "end_time": "2020-12-17T10:34:13.076791",
     "exception": false,
     "start_time": "2020-12-17T10:34:12.589346",
     "status": "completed"
    },
    "tags": []
   },
   "outputs": [
    {
     "data": {
      "image/png": "[encoded data removed]",
      "text/plain": [
       "<Figure size 864x432 with 1 Axes>"
      ]
     },
     "metadata": {},
     "output_type": "display_data"
    }
   ],
   "source": [
    "tags_select = tags_df.sort_values(by = \"Total_questions\", ascending = False).iloc[:30,:]\n",
    "tags_select = tags_select[\"Total_questions\"]\n",
    "\n",
    "fig = plt.figure(figsize=(12,6))\n",
    "ax = tags_select.plot.bar()\n",
    "plt.title(\"Thirty tags with most questions answered\")\n",
    "plt.xticks(rotation=90)\n",
    "plt.ticklabel_format(style='plain', axis='y')\n",
    "ax.get_yaxis().set_major_formatter(FuncFormatter(lambda x, p: format(int(x), ','))) #add thousands separator\n",
    "plt.show()"
   ]
  },
  {
   "cell_type": "markdown",
   "metadata": {
    "papermill": {
     "duration": 0.121064,
     "end_time": "2020-12-17T10:34:13.321516",
     "exception": false,
     "start_time": "2020-12-17T10:34:13.200452",
     "status": "completed"
    },
    "tags": []
   },
   "source": [
    "What are the so-called \"Parts\"? When following the link provided in the data description we find out that this relates to a test.\n",
    "\n",
    "> The TOEIC L&R uses an optically-scanned answer sheet. There are 200 questions to answer in two hours in Listening (approximately 45 minutes, 100 questions) and Reading (75 minutes, 100 questions). \n",
    "\n",
    "The listening section consists of Part 1-4 (Listening Section (approx. 45 minutes, 100 questions)).\n",
    "\n",
    "The reading section consists of Part 5-7 (Reading Section (75 minutes, 100 questions))."
   ]
  },
  {
   "cell_type": "markdown",
   "metadata": {
    "papermill": {
     "duration": 0.118021,
     "end_time": "2020-12-17T10:34:13.556234",
     "exception": false,
     "start_time": "2020-12-17T10:34:13.438213",
     "status": "completed"
    },
    "tags": []
   },
   "source": [
    "Below, I am displaying the count and percent correct by part. As you can see, Part 5 has a lot more question_id's and is also the most difficult."
   ]
  },
  {
   "cell_type": "code",
   "execution_count": 36,
   "metadata": {
    "_kg_hide-input": true,
    "execution": {
     "iopub.execute_input": "2020-12-17T10:34:13.813675Z",
     "iopub.status.busy": "2020-12-17T10:34:13.811534Z",
     "iopub.status.idle": "2020-12-17T10:34:14.224731Z",
     "shell.execute_reply": "2020-12-17T10:34:14.224092Z"
    },
    "papermill": {
     "duration": 0.552876,
     "end_time": "2020-12-17T10:34:14.224868",
     "exception": false,
     "start_time": "2020-12-17T10:34:13.671992",
     "status": "completed"
    },
    "tags": []
   },
   "outputs": [
    {
     "data": {
      "image/png": "[encoded data removed]",
      "text/plain": [
       "<Figure size 864x576 with 2 Axes>"
      ]
     },
     "metadata": {},
     "output_type": "display_data"
    }
   ],
   "source": [
    "fig = plt.figure(figsize=(12,8))\n",
    "ax1 = fig.add_subplot(211)\n",
    "ax1 = questions.groupby(\"part\").count()['question_id'].plot.bar()\n",
    "plt.title(\"Counts of part\")\n",
    "plt.xlabel(\"Part\")\n",
    "plt.xticks(rotation=0)\n",
    "\n",
    "part = questions.groupby('part').agg({'Wrong': ['sum'], 'Right': ['sum']})\n",
    "part['Percent_correct'] = part.Right/(part.Right + part.Wrong)\n",
    "part = part.iloc[:,2]\n",
    "\n",
    "ax2 = fig.add_subplot(212)\n",
    "plt.bar(part.index, part.values)\n",
    "for i, v in zip(part.index, part.values):\n",
    "    plt.text(i, v, round(v,2), color='white', fontweight='bold', fontsize=14, va='top', ha='center')\n",
    "\n",
    "plt.title(\"Percent_correct by part\")\n",
    "plt.xlabel(\"Part\")\n",
    "plt.xticks(rotation=0)\n",
    "plt.tight_layout(pad=2)\n",
    "plt.show()"
   ]
  },
  {
   "cell_type": "markdown",
   "metadata": {
    "papermill": {
     "duration": 0.119105,
     "end_time": "2020-12-17T10:34:14.463385",
     "exception": false,
     "start_time": "2020-12-17T10:34:14.344280",
     "status": "completed"
    },
    "tags": []
   },
   "source": [
    "# 1.3 Exploring Lectures\n",
    "\n",
    "Metadata for the lectures watched by users as they progress in their education.\n",
    "* lecture_id: foreign key for the train/test content_id column, when the content type is lecture (1).\n",
    "* part: top level category code for the lecture.\n",
    "* tag: one tag codes for the lecture. The meaning of the tags will not be provided, but these codes are sufficient for clustering the lectures together.\n",
    "* type_of: brief description of the core purpose of the lecture\n"
   ]
  },
  {
   "cell_type": "code",
   "execution_count": 37,
   "metadata": {
    "execution": {
     "iopub.execute_input": "2020-12-17T10:34:14.711243Z",
     "iopub.status.busy": "2020-12-17T10:34:14.710109Z",
     "iopub.status.idle": "2020-12-17T10:34:14.715037Z",
     "shell.execute_reply": "2020-12-17T10:34:14.714301Z"
    },
    "papermill": {
     "duration": 0.134885,
     "end_time": "2020-12-17T10:34:14.715208",
     "exception": false,
     "start_time": "2020-12-17T10:34:14.580323",
     "status": "completed"
    },
    "tags": []
   },
   "outputs": [
    {
     "data": {
      "text/html": [
       "<div>\n",
       "<style scoped>\n",
       "    .dataframe tbody tr th:only-of-type {\n",
       "        vertical-align: middle;\n",
       "    }\n",
       "\n",
       "    .dataframe tbody tr th {\n",
       "        vertical-align: top;\n",
       "    }\n",
       "\n",
       "    .dataframe thead th {\n",
       "        text-align: right;\n",
       "    }\n",
       "</style>\n",
       "<table border=\"1\" class=\"dataframe\">\n",
       "  <thead>\n",
       "    <tr style=\"text-align: right;\">\n",
       "      <th></th>\n",
       "      <th>lecture_id</th>\n",
       "      <th>tag</th>\n",
       "      <th>part</th>\n",
       "      <th>type_of</th>\n",
       "    </tr>\n",
       "  </thead>\n",
       "  <tbody>\n",
       "    <tr>\n",
       "      <th>0</th>\n",
       "      <td>89</td>\n",
       "      <td>159</td>\n",
       "      <td>5</td>\n",
       "      <td>concept</td>\n",
       "    </tr>\n",
       "    <tr>\n",
       "      <th>1</th>\n",
       "      <td>100</td>\n",
       "      <td>70</td>\n",
       "      <td>1</td>\n",
       "      <td>concept</td>\n",
       "    </tr>\n",
       "    <tr>\n",
       "      <th>2</th>\n",
       "      <td>185</td>\n",
       "      <td>45</td>\n",
       "      <td>6</td>\n",
       "      <td>concept</td>\n",
       "    </tr>\n",
       "    <tr>\n",
       "      <th>3</th>\n",
       "      <td>192</td>\n",
       "      <td>79</td>\n",
       "      <td>5</td>\n",
       "      <td>solving question</td>\n",
       "    </tr>\n",
       "    <tr>\n",
       "      <th>4</th>\n",
       "      <td>317</td>\n",
       "      <td>156</td>\n",
       "      <td>5</td>\n",
       "      <td>solving question</td>\n",
       "    </tr>\n",
       "  </tbody>\n",
       "</table>\n",
       "</div>"
      ],
      "text/plain": [
       "   lecture_id  tag  part           type_of\n",
       "0          89  159     5           concept\n",
       "1         100   70     1           concept\n",
       "2         185   45     6           concept\n",
       "3         192   79     5  solving question\n",
       "4         317  156     5  solving question"
      ]
     },
     "execution_count": 37,
     "metadata": {},
     "output_type": "execute_result"
    }
   ],
   "source": [
    "lectures.head()"
   ]
  },
  {
   "cell_type": "code",
   "execution_count": 38,
   "metadata": {
    "_kg_hide-input": true,
    "execution": {
     "iopub.execute_input": "2020-12-17T10:34:14.956934Z",
     "iopub.status.busy": "2020-12-17T10:34:14.956036Z",
     "iopub.status.idle": "2020-12-17T10:34:14.960522Z",
     "shell.execute_reply": "2020-12-17T10:34:14.959909Z"
    },
    "papermill": {
     "duration": 0.126596,
     "end_time": "2020-12-17T10:34:14.960653",
     "exception": false,
     "start_time": "2020-12-17T10:34:14.834057",
     "status": "completed"
    },
    "tags": []
   },
   "outputs": [
    {
     "name": "stdout",
     "output_type": "stream",
     "text": [
      "There are 418 lecture_ids.\n"
     ]
    }
   ],
   "source": [
    "print(f'There are {lectures.shape[0]} lecture_ids.')"
   ]
  },
  {
   "cell_type": "markdown",
   "metadata": {
    "papermill": {
     "duration": 0.119633,
     "end_time": "2020-12-17T10:34:15.200414",
     "exception": false,
     "start_time": "2020-12-17T10:34:15.080781",
     "status": "completed"
    },
    "tags": []
   },
   "source": [
    "Let's have a look at the type_of."
   ]
  },
  {
   "cell_type": "code",
   "execution_count": 39,
   "metadata": {
    "_kg_hide-input": true,
    "execution": {
     "iopub.execute_input": "2020-12-17T10:34:15.454620Z",
     "iopub.status.busy": "2020-12-17T10:34:15.453358Z",
     "iopub.status.idle": "2020-12-17T10:34:15.624654Z",
     "shell.execute_reply": "2020-12-17T10:34:15.624009Z"
    },
    "papermill": {
     "duration": 0.306223,
     "end_time": "2020-12-17T10:34:15.624789",
     "exception": false,
     "start_time": "2020-12-17T10:34:15.318566",
     "status": "completed"
    },
    "tags": []
   },
   "outputs": [
    {
     "data": {
      "image/png": "[encoded data removed]",
      "text/plain": [
       "<Figure size 864x432 with 1 Axes>"
      ]
     },
     "metadata": {},
     "output_type": "display_data"
    }
   ],
   "source": [
    "lect_type_of = lectures.type_of.value_counts()\n",
    "\n",
    "fig = plt.figure(figsize=(12,6))\n",
    "plt.bar(lect_type_of.index, lect_type_of.values)\n",
    "for i, v in zip(lect_type_of.index, lect_type_of.values):\n",
    "    plt.text(i, v, v, color='black', fontweight='bold', fontsize=14, va='bottom', ha='center')\n",
    "plt.title(\"Types of lectures\")\n",
    "plt.xlabel(\"type_of\")\n",
    "plt.ylabel(\"Count lecture_id\")\n",
    "plt.xticks(rotation=0)\n",
    "plt.show()"
   ]
  },
  {
   "cell_type": "markdown",
   "metadata": {
    "papermill": {
     "duration": 0.120173,
     "end_time": "2020-12-17T10:34:15.871444",
     "exception": false,
     "start_time": "2020-12-17T10:34:15.751271",
     "status": "completed"
    },
    "tags": []
   },
   "source": [
    "Since there are not that many lectures, I want to check if it helps if a user watches lectures at all. As you can see, it helps indeed!"
   ]
  },
  {
   "cell_type": "code",
   "execution_count": 40,
   "metadata": {
    "_kg_hide-input": true,
    "execution": {
     "iopub.execute_input": "2020-12-17T10:34:16.129508Z",
     "iopub.status.busy": "2020-12-17T10:34:16.123377Z",
     "iopub.status.idle": "2020-12-17T10:34:22.888624Z",
     "shell.execute_reply": "2020-12-17T10:34:22.887932Z"
    },
    "papermill": {
     "duration": 6.897442,
     "end_time": "2020-12-17T10:34:22.888756",
     "exception": false,
     "start_time": "2020-12-17T10:34:15.991314",
     "status": "completed"
    },
    "tags": []
   },
   "outputs": [
    {
     "name": "stdout",
     "output_type": "stream",
     "text": [
      "False    244050\n",
      "True     149606\n",
      "Name: Watches_lecture, dtype: int64\n"
     ]
    },
    {
     "data": {
      "image/png": "[encoded data removed]",
      "text/plain": [
       "<Figure size 864x288 with 1 Axes>"
      ]
     },
     "metadata": {},
     "output_type": "display_data"
    }
   ],
   "source": [
    "user_lect = train.groupby([\"user_id\", \"answered_correctly\"]).size().unstack()\n",
    "user_lect.columns = ['Lecture', 'Wrong', 'Right']\n",
    "user_lect['Lecture'] = user_lect['Lecture'].fillna(0)\n",
    "user_lect = user_lect.astype('Int64')\n",
    "user_lect['Watches_lecture'] = np.where(user_lect.Lecture > 0, True, False)\n",
    "\n",
    "watches_l = user_lect.groupby(\"Watches_lecture\").agg({'Wrong': ['sum'], 'Right': ['sum']})\n",
    "print(user_lect.Watches_lecture.value_counts())\n",
    "\n",
    "watches_l['Percent_correct'] = watches_l.Right/(watches_l.Right + watches_l.Wrong)\n",
    "\n",
    "watches_l = watches_l.iloc[:,2]\n",
    "\n",
    "fig = plt.figure(figsize=(12,4))\n",
    "watches_l.plot.barh()\n",
    "for i, v in zip(watches_l.index, watches_l.values):\n",
    "    plt.text(v, i, round(v,2), color='white', fontweight='bold', fontsize=14, ha='right', va='center')\n",
    "\n",
    "plt.title(\"User watches lectures: Percent_correct\")\n",
    "plt.xlabel(\"Percent correct\")\n",
    "plt.ylabel(\"User watched at least one lecture\")\n",
    "plt.xticks(rotation=0)\n",
    "plt.show()"
   ]
  },
  {
   "cell_type": "markdown",
   "metadata": {
    "papermill": {
     "duration": 0.120859,
     "end_time": "2020-12-17T10:34:23.133718",
     "exception": false,
     "start_time": "2020-12-17T10:34:23.012859",
     "status": "completed"
    },
    "tags": []
   },
   "source": [
    "Batches (task_container_id) may also contain lectures, and I want to find out if there are any batches with high numbers of lectures."
   ]
  },
  {
   "cell_type": "code",
   "execution_count": 41,
   "metadata": {
    "_kg_hide-input": true,
    "execution": {
     "iopub.execute_input": "2020-12-17T10:34:23.391283Z",
     "iopub.status.busy": "2020-12-17T10:34:23.389798Z",
     "iopub.status.idle": "2020-12-17T10:34:30.855789Z",
     "shell.execute_reply": "2020-12-17T10:34:30.856394Z"
    },
    "papermill": {
     "duration": 7.598932,
     "end_time": "2020-12-17T10:34:30.856555",
     "exception": false,
     "start_time": "2020-12-17T10:34:23.257623",
     "status": "completed"
    },
    "tags": []
   },
   "outputs": [
    {
     "name": "stdout",
     "output_type": "stream",
     "text": [
      "The highest number of lectures watched within a single task_container_id is 5143.\n"
     ]
    }
   ],
   "source": [
    "batch_lect = train.groupby([\"task_container_id\", \"answered_correctly\"]).size().unstack()\n",
    "batch_lect.columns = ['Lecture', 'Wrong', 'Right']\n",
    "batch_lect['Lecture'] = batch_lect['Lecture'].fillna(0)\n",
    "batch_lect = batch_lect.astype('Int64')\n",
    "batch_lect['Percent_correct'] = batch_lect.Right/(batch_lect.Wrong + batch_lect.Right)\n",
    "batch_lect['Percent_lecture'] = batch_lect.Lecture/(batch_lect.Lecture + batch_lect.Wrong + batch_lect.Right)\n",
    "batch_lect = batch_lect.sort_values(by = \"Percent_lecture\", ascending = False)\n",
    "\n",
    "print(f'The highest number of lectures watched within a single task_container_id is {batch_lect.Lecture.max()}.')"
   ]
  },
  {
   "cell_type": "markdown",
   "metadata": {
    "papermill": {
     "duration": 0.123495,
     "end_time": "2020-12-17T10:34:31.103350",
     "exception": false,
     "start_time": "2020-12-17T10:34:30.979855",
     "status": "completed"
    },
    "tags": []
   },
   "source": [
    "As you can see below (table sorted on descending Percent_lecture), the percent of lectures of the task_container_id's is never high. We can also see the highest percentages of lectures are around 2.8%, which means one lecture on about 36 questions."
   ]
  },
  {
   "cell_type": "code",
   "execution_count": 42,
   "metadata": {
    "_kg_hide-input": true,
    "execution": {
     "iopub.execute_input": "2020-12-17T10:34:31.367495Z",
     "iopub.status.busy": "2020-12-17T10:34:31.366535Z",
     "iopub.status.idle": "2020-12-17T10:34:31.370887Z",
     "shell.execute_reply": "2020-12-17T10:34:31.371429Z"
    },
    "papermill": {
     "duration": 0.141528,
     "end_time": "2020-12-17T10:34:31.371597",
     "exception": false,
     "start_time": "2020-12-17T10:34:31.230069",
     "status": "completed"
    },
    "tags": []
   },
   "outputs": [
    {
     "data": {
      "text/html": [
       "<div>\n",
       "<style scoped>\n",
       "    .dataframe tbody tr th:only-of-type {\n",
       "        vertical-align: middle;\n",
       "    }\n",
       "\n",
       "    .dataframe tbody tr th {\n",
       "        vertical-align: top;\n",
       "    }\n",
       "\n",
       "    .dataframe thead th {\n",
       "        text-align: right;\n",
       "    }\n",
       "</style>\n",
       "<table border=\"1\" class=\"dataframe\">\n",
       "  <thead>\n",
       "    <tr style=\"text-align: right;\">\n",
       "      <th></th>\n",
       "      <th>Lecture</th>\n",
       "      <th>Wrong</th>\n",
       "      <th>Right</th>\n",
       "      <th>Percent_correct</th>\n",
       "      <th>Percent_lecture</th>\n",
       "    </tr>\n",
       "    <tr>\n",
       "      <th>task_container_id</th>\n",
       "      <th></th>\n",
       "      <th></th>\n",
       "      <th></th>\n",
       "      <th></th>\n",
       "      <th></th>\n",
       "    </tr>\n",
       "  </thead>\n",
       "  <tbody>\n",
       "    <tr>\n",
       "      <th>9096</th>\n",
       "      <td>8</td>\n",
       "      <td>57</td>\n",
       "      <td>191</td>\n",
       "      <td>0.770161</td>\n",
       "      <td>0.031250</td>\n",
       "    </tr>\n",
       "    <tr>\n",
       "      <th>270</th>\n",
       "      <td>2265</td>\n",
       "      <td>26105</td>\n",
       "      <td>52352</td>\n",
       "      <td>0.667270</td>\n",
       "      <td>0.028059</td>\n",
       "    </tr>\n",
       "    <tr>\n",
       "      <th>477</th>\n",
       "      <td>1428</td>\n",
       "      <td>16166</td>\n",
       "      <td>33427</td>\n",
       "      <td>0.674027</td>\n",
       "      <td>0.027988</td>\n",
       "    </tr>\n",
       "    <tr>\n",
       "      <th>253</th>\n",
       "      <td>2343</td>\n",
       "      <td>27380</td>\n",
       "      <td>54798</td>\n",
       "      <td>0.666821</td>\n",
       "      <td>0.027721</td>\n",
       "    </tr>\n",
       "    <tr>\n",
       "      <th>351</th>\n",
       "      <td>1835</td>\n",
       "      <td>21225</td>\n",
       "      <td>43158</td>\n",
       "      <td>0.670332</td>\n",
       "      <td>0.027711</td>\n",
       "    </tr>\n",
       "  </tbody>\n",
       "</table>\n",
       "</div>"
      ],
      "text/plain": [
       "                   Lecture  Wrong  Right  Percent_correct  Percent_lecture\n",
       "task_container_id                                                         \n",
       "9096                     8     57    191         0.770161         0.031250\n",
       "270                   2265  26105  52352         0.667270         0.028059\n",
       "477                   1428  16166  33427         0.674027         0.027988\n",
       "253                   2343  27380  54798         0.666821         0.027721\n",
       "351                   1835  21225  43158         0.670332         0.027711"
      ]
     },
     "execution_count": 42,
     "metadata": {},
     "output_type": "execute_result"
    }
   ],
   "source": [
    "batch_lect.head()"
   ]
  },
  {
   "cell_type": "markdown",
   "metadata": {
    "papermill": {
     "duration": 0.123369,
     "end_time": "2020-12-17T10:34:31.616294",
     "exception": false,
     "start_time": "2020-12-17T10:34:31.492925",
     "status": "completed"
    },
    "tags": []
   },
   "source": [
    "Is there a correlation between the percent_lecture and the percent_correct? No, I don't really see it. If anything, the percent_correct actually seems to go down slightly."
   ]
  },
  {
   "cell_type": "code",
   "execution_count": 43,
   "metadata": {
    "_kg_hide-input": true,
    "execution": {
     "iopub.execute_input": "2020-12-17T10:34:31.875272Z",
     "iopub.status.busy": "2020-12-17T10:34:31.869156Z",
     "iopub.status.idle": "2020-12-17T10:34:32.093167Z",
     "shell.execute_reply": "2020-12-17T10:34:32.092444Z"
    },
    "papermill": {
     "duration": 0.354787,
     "end_time": "2020-12-17T10:34:32.093312",
     "exception": false,
     "start_time": "2020-12-17T10:34:31.738525",
     "status": "completed"
    },
    "tags": []
   },
   "outputs": [
    {
     "data": {
      "image/png": "[encoded data removed]",
      "text/plain": [
       "<Figure size 864x432 with 1 Axes>"
      ]
     },
     "metadata": {},
     "output_type": "display_data"
    }
   ],
   "source": [
    "batch = batch_lect.iloc[:, 3:]\n",
    "\n",
    "fig = plt.figure(figsize=(12,6))\n",
    "x = batch.Percent_lecture\n",
    "y = batch.Percent_correct\n",
    "plt.scatter(x, y, marker='o')\n",
    "plt.title(\"Percent lectures in a task_container versus percent answered correctly\")\n",
    "plt.xticks(rotation=0)\n",
    "plt.xlabel(\"Percent lectures\")\n",
    "plt.ylabel(\"Percent answered correctly\")\n",
    "\n",
    "plt.show()\n"
   ]
  },
  {
   "cell_type": "markdown",
   "metadata": {
    "papermill": {
     "duration": 0.124743,
     "end_time": "2020-12-17T10:34:32.347768",
     "exception": false,
     "start_time": "2020-12-17T10:34:32.223025",
     "status": "completed"
    },
    "tags": []
   },
   "source": [
    "The last thing that I want to check is if having a lecture in a batch helps. As you can see, it does not. Batches without lectures have about 8% more correct answers than batches with lectures."
   ]
  },
  {
   "cell_type": "code",
   "execution_count": 44,
   "metadata": {
    "_kg_hide-input": true,
    "execution": {
     "iopub.execute_input": "2020-12-17T10:34:32.607094Z",
     "iopub.status.busy": "2020-12-17T10:34:32.606313Z",
     "iopub.status.idle": "2020-12-17T10:34:32.614087Z",
     "shell.execute_reply": "2020-12-17T10:34:32.613453Z"
    },
    "papermill": {
     "duration": 0.140839,
     "end_time": "2020-12-17T10:34:32.614249",
     "exception": false,
     "start_time": "2020-12-17T10:34:32.473410",
     "status": "completed"
    },
    "tags": []
   },
   "outputs": [
    {
     "name": "stdout",
     "output_type": "stream",
     "text": [
      "We have 9369 task_container_ids with lectures and 631 task_container_ids without lectures.\n"
     ]
    }
   ],
   "source": [
    "batch_lect['Has_lecture'] = np.where(batch_lect.Lecture == 0, False, True)\n",
    "print(f'We have {batch_lect[batch_lect.Has_lecture == True].shape[0]} task_container_ids with lectures and {batch_lect[batch_lect.Has_lecture == False].shape[0]} task_container_ids without lectures.')"
   ]
  },
  {
   "cell_type": "code",
   "execution_count": 45,
   "metadata": {
    "_kg_hide-input": true,
    "execution": {
     "iopub.execute_input": "2020-12-17T10:34:32.874759Z",
     "iopub.status.busy": "2020-12-17T10:34:32.873562Z",
     "iopub.status.idle": "2020-12-17T10:34:32.887748Z",
     "shell.execute_reply": "2020-12-17T10:34:32.887088Z"
    },
    "papermill": {
     "duration": 0.14941,
     "end_time": "2020-12-17T10:34:32.887885",
     "exception": false,
     "start_time": "2020-12-17T10:34:32.738475",
     "status": "completed"
    },
    "tags": []
   },
   "outputs": [
    {
     "data": {
      "text/html": [
       "<div>\n",
       "<style scoped>\n",
       "    .dataframe tbody tr th:only-of-type {\n",
       "        vertical-align: middle;\n",
       "    }\n",
       "\n",
       "    .dataframe tbody tr th {\n",
       "        vertical-align: top;\n",
       "    }\n",
       "\n",
       "    .dataframe thead th {\n",
       "        text-align: right;\n",
       "    }\n",
       "</style>\n",
       "<table border=\"1\" class=\"dataframe\">\n",
       "  <thead>\n",
       "    <tr style=\"text-align: right;\">\n",
       "      <th></th>\n",
       "      <th>Percent_correct</th>\n",
       "    </tr>\n",
       "    <tr>\n",
       "      <th>Has_lecture</th>\n",
       "      <th></th>\n",
       "    </tr>\n",
       "  </thead>\n",
       "  <tbody>\n",
       "    <tr>\n",
       "      <th>False</th>\n",
       "      <td>0.736412</td>\n",
       "    </tr>\n",
       "    <tr>\n",
       "      <th>True</th>\n",
       "      <td>0.657087</td>\n",
       "    </tr>\n",
       "  </tbody>\n",
       "</table>\n",
       "</div>"
      ],
      "text/plain": [
       "             Percent_correct\n",
       "Has_lecture                 \n",
       "False               0.736412\n",
       "True                0.657087"
      ]
     },
     "execution_count": 45,
     "metadata": {},
     "output_type": "execute_result"
    }
   ],
   "source": [
    "batch_lect = batch_lect[['Wrong', 'Right', 'Has_lecture']]\n",
    "batch_lect = batch_lect.groupby(\"Has_lecture\").sum()\n",
    "batch_lect['Percent_correct'] = batch_lect.Right/(batch_lect.Wrong + batch_lect.Right)\n",
    "batch_lect = batch_lect[['Percent_correct']]\n",
    "batch_lect"
   ]
  },
  {
   "cell_type": "markdown",
   "metadata": {
    "papermill": {
     "duration": 0.123869,
     "end_time": "2020-12-17T10:34:33.137533",
     "exception": false,
     "start_time": "2020-12-17T10:34:33.013664",
     "status": "completed"
    },
    "tags": []
   },
   "source": [
    "# Example test\n",
    "This file is a very small file, and only good to check what's in there.\n",
    "\n",
    "Important: In the `Updates, corrections, and clarifications` topic is said that:\n",
    "* the hidden test set contains new users but not new questions\n",
    "* The train/test data is complete, in the sense that there are no missing interactions in the union of train and test data. It remains possible that some questions weren't logged due to other issues that all datasets of mobile users are susceptible to,such as if a user lost their connection mid-question.\n",
    "* The test data follows chronologically after the train data. The test iterations give interactions of users chronologically.\n"
   ]
  },
  {
   "cell_type": "code",
   "execution_count": 46,
   "metadata": {
    "execution": {
     "iopub.execute_input": "2020-12-17T10:34:33.395231Z",
     "iopub.status.busy": "2020-12-17T10:34:33.394406Z",
     "iopub.status.idle": "2020-12-17T10:34:33.398064Z",
     "shell.execute_reply": "2020-12-17T10:34:33.398657Z"
    },
    "papermill": {
     "duration": 0.134501,
     "end_time": "2020-12-17T10:34:33.398811",
     "exception": false,
     "start_time": "2020-12-17T10:34:33.264310",
     "status": "completed"
    },
    "tags": []
   },
   "outputs": [
    {
     "data": {
      "text/plain": [
       "(104, 11)"
      ]
     },
     "execution_count": 46,
     "metadata": {},
     "output_type": "execute_result"
    }
   ],
   "source": [
    "example_test.shape"
   ]
  },
  {
   "cell_type": "code",
   "execution_count": 47,
   "metadata": {
    "execution": {
     "iopub.execute_input": "2020-12-17T10:34:33.670047Z",
     "iopub.status.busy": "2020-12-17T10:34:33.669252Z",
     "iopub.status.idle": "2020-12-17T10:34:33.674702Z",
     "shell.execute_reply": "2020-12-17T10:34:33.673922Z"
    },
    "papermill": {
     "duration": 0.149136,
     "end_time": "2020-12-17T10:34:33.674831",
     "exception": false,
     "start_time": "2020-12-17T10:34:33.525695",
     "status": "completed"
    },
    "tags": []
   },
   "outputs": [
    {
     "data": {
      "text/html": [
       "<div>\n",
       "<style scoped>\n",
       "    .dataframe tbody tr th:only-of-type {\n",
       "        vertical-align: middle;\n",
       "    }\n",
       "\n",
       "    .dataframe tbody tr th {\n",
       "        vertical-align: top;\n",
       "    }\n",
       "\n",
       "    .dataframe thead th {\n",
       "        text-align: right;\n",
       "    }\n",
       "</style>\n",
       "<table border=\"1\" class=\"dataframe\">\n",
       "  <thead>\n",
       "    <tr style=\"text-align: right;\">\n",
       "      <th></th>\n",
       "      <th>row_id</th>\n",
       "      <th>group_num</th>\n",
       "      <th>timestamp</th>\n",
       "      <th>user_id</th>\n",
       "      <th>content_id</th>\n",
       "      <th>content_type_id</th>\n",
       "      <th>task_container_id</th>\n",
       "      <th>prior_question_elapsed_time</th>\n",
       "      <th>prior_question_had_explanation</th>\n",
       "      <th>prior_group_answers_correct</th>\n",
       "      <th>prior_group_responses</th>\n",
       "    </tr>\n",
       "  </thead>\n",
       "  <tbody>\n",
       "    <tr>\n",
       "      <th>0</th>\n",
       "      <td>0</td>\n",
       "      <td>0</td>\n",
       "      <td>0</td>\n",
       "      <td>275030867</td>\n",
       "      <td>5729</td>\n",
       "      <td>0</td>\n",
       "      <td>0</td>\n",
       "      <td>NaN</td>\n",
       "      <td>NaN</td>\n",
       "      <td>[]</td>\n",
       "      <td>[]</td>\n",
       "    </tr>\n",
       "    <tr>\n",
       "      <th>1</th>\n",
       "      <td>1</td>\n",
       "      <td>0</td>\n",
       "      <td>13309898705</td>\n",
       "      <td>554169193</td>\n",
       "      <td>12010</td>\n",
       "      <td>0</td>\n",
       "      <td>4427</td>\n",
       "      <td>19000.0</td>\n",
       "      <td>True</td>\n",
       "      <td>NaN</td>\n",
       "      <td>NaN</td>\n",
       "    </tr>\n",
       "    <tr>\n",
       "      <th>2</th>\n",
       "      <td>2</td>\n",
       "      <td>0</td>\n",
       "      <td>4213672059</td>\n",
       "      <td>1720860329</td>\n",
       "      <td>457</td>\n",
       "      <td>0</td>\n",
       "      <td>240</td>\n",
       "      <td>17000.0</td>\n",
       "      <td>True</td>\n",
       "      <td>NaN</td>\n",
       "      <td>NaN</td>\n",
       "    </tr>\n",
       "    <tr>\n",
       "      <th>3</th>\n",
       "      <td>3</td>\n",
       "      <td>0</td>\n",
       "      <td>62798072960</td>\n",
       "      <td>288641214</td>\n",
       "      <td>13262</td>\n",
       "      <td>0</td>\n",
       "      <td>266</td>\n",
       "      <td>23000.0</td>\n",
       "      <td>True</td>\n",
       "      <td>NaN</td>\n",
       "      <td>NaN</td>\n",
       "    </tr>\n",
       "    <tr>\n",
       "      <th>4</th>\n",
       "      <td>4</td>\n",
       "      <td>0</td>\n",
       "      <td>10585422061</td>\n",
       "      <td>1728340777</td>\n",
       "      <td>6119</td>\n",
       "      <td>0</td>\n",
       "      <td>162</td>\n",
       "      <td>72400.0</td>\n",
       "      <td>True</td>\n",
       "      <td>NaN</td>\n",
       "      <td>NaN</td>\n",
       "    </tr>\n",
       "  </tbody>\n",
       "</table>\n",
       "</div>"
      ],
      "text/plain": [
       "   row_id  group_num    timestamp     user_id  content_id  content_type_id  \\\n",
       "0       0          0            0   275030867        5729                0   \n",
       "1       1          0  13309898705   554169193       12010                0   \n",
       "2       2          0   4213672059  1720860329         457                0   \n",
       "3       3          0  62798072960   288641214       13262                0   \n",
       "4       4          0  10585422061  1728340777        6119                0   \n",
       "\n",
       "   task_container_id  prior_question_elapsed_time  \\\n",
       "0                  0                          NaN   \n",
       "1               4427                      19000.0   \n",
       "2                240                      17000.0   \n",
       "3                266                      23000.0   \n",
       "4                162                      72400.0   \n",
       "\n",
       "  prior_question_had_explanation prior_group_answers_correct  \\\n",
       "0                            NaN                          []   \n",
       "1                           True                         NaN   \n",
       "2                           True                         NaN   \n",
       "3                           True                         NaN   \n",
       "4                           True                         NaN   \n",
       "\n",
       "  prior_group_responses  \n",
       "0                    []  \n",
       "1                   NaN  \n",
       "2                   NaN  \n",
       "3                   NaN  \n",
       "4                   NaN  "
      ]
     },
     "execution_count": 47,
     "metadata": {},
     "output_type": "execute_result"
    }
   ],
   "source": [
    "example_test.head()"
   ]
  },
  {
   "cell_type": "code",
   "execution_count": 48,
   "metadata": {
    "_kg_hide-input": true,
    "execution": {
     "iopub.execute_input": "2020-12-17T10:34:33.937323Z",
     "iopub.status.busy": "2020-12-17T10:34:33.936517Z",
     "iopub.status.idle": "2020-12-17T10:34:34.848668Z",
     "shell.execute_reply": "2020-12-17T10:34:34.847269Z"
    },
    "papermill": {
     "duration": 1.045842,
     "end_time": "2020-12-17T10:34:34.848892",
     "exception": false,
     "start_time": "2020-12-17T10:34:33.803050",
     "status": "completed"
    },
    "tags": []
   },
   "outputs": [
    {
     "name": "stdout",
     "output_type": "stream",
     "text": [
      "All batches in example_test are also in train is True.\n"
     ]
    }
   ],
   "source": [
    "batches_test = set(list(example_test.task_container_id.unique()))\n",
    "batches_train = set(list(train.task_container_id.unique()))\n",
    "print(f'All batches in example_test are also in train is {batches_test.issubset(batches_train)}.')"
   ]
  },
  {
   "cell_type": "markdown",
   "metadata": {
    "papermill": {
     "duration": 0.127563,
     "end_time": "2020-12-17T10:34:35.107066",
     "exception": false,
     "start_time": "2020-12-17T10:34:34.979503",
     "status": "completed"
    },
    "tags": []
   },
   "source": [
    "Kaggle says that there are new users in the test set, but let's check this anyway with example_test. As we can see, there is a new user in example_test indeed."
   ]
  },
  {
   "cell_type": "code",
   "execution_count": 49,
   "metadata": {
    "_kg_hide-input": true,
    "execution": {
     "iopub.execute_input": "2020-12-17T10:34:35.369411Z",
     "iopub.status.busy": "2020-12-17T10:34:35.368623Z",
     "iopub.status.idle": "2020-12-17T10:34:36.307172Z",
     "shell.execute_reply": "2020-12-17T10:34:36.306412Z"
    },
    "papermill": {
     "duration": 1.072006,
     "end_time": "2020-12-17T10:34:36.307317",
     "exception": false,
     "start_time": "2020-12-17T10:34:35.235311",
     "status": "completed"
    },
    "tags": []
   },
   "outputs": [
    {
     "name": "stdout",
     "output_type": "stream",
     "text": [
      "User_ids in example_test but not in train: {275030867}.\n"
     ]
    }
   ],
   "source": [
    "user_test = set(list(example_test.user_id.unique()))\n",
    "user_train = set(list(train.user_id.unique()))\n",
    "\n",
    "print(f'User_ids in example_test but not in train: {user_test - user_train}.')"
   ]
  }
 ],
 "metadata": {
  "kernelspec": {
   "display_name": "Python 3",
   "language": "python",
   "name": "python3"
  },
  "language_info": {
   "codemirror_mode": {
    "name": "ipython",
    "version": 3
   },
   "file_extension": ".py",
   "mimetype": "text/x-python",
   "name": "python",
   "nbconvert_exporter": "python",
   "pygments_lexer": "ipython3",
   "version": "3.6.8"
  },
  "papermill": {
   "duration": 1497.476433,
   "end_time": "2020-12-17T10:53:58.312935",
   "environment_variables": {},
   "exception": null,
   "input_path": "__notebook__.ipynb",
   "output_path": "__notebook__.ipynb",
   "parameters": {},
   "start_time": "2020-12-17T10:29:00.836502",
   "version": "2.1.0"
  }
 },
 "nbformat": 4,
 "nbformat_minor": 4
}
